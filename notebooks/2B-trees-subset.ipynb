{
 "cells": [
  {
   "cell_type": "markdown",
   "metadata": {},
   "source": [
    "# B - Subset der Baumdaten"
   ]
  },
  {
   "cell_type": "markdown",
   "metadata": {},
   "source": [
    "## Daten einlesen"
   ]
  },
  {
   "cell_type": "code",
   "execution_count": 1,
   "metadata": {},
   "outputs": [],
   "source": [
    "from repml.datasets.trees_fra import read_trees_fra\n",
    "\n",
    "data = read_trees_fra()"
   ]
  },
  {
   "cell_type": "code",
   "execution_count": 2,
   "metadata": {},
   "outputs": [
    {
     "data": {
      "text/plain": [
       "(159185, 16)"
      ]
     },
     "execution_count": 2,
     "metadata": {},
     "output_type": "execute_result"
    }
   ],
   "source": [
    "data.shape"
   ]
  },
  {
   "cell_type": "code",
   "execution_count": 3,
   "metadata": {},
   "outputs": [
    {
     "name": "stdout",
     "output_type": "stream",
     "text": [
      "<class 'pandas.core.frame.DataFrame'>\n",
      "Index: 159185 entries, 0 to 159186\n",
      "Data columns (total 16 columns):\n",
      " #   Column      Non-Null Count   Dtype   \n",
      "---  ------      --------------   -----   \n",
      " 0   baumnummer  159185 non-null  object  \n",
      " 1   hochwert    159185 non-null  float64 \n",
      " 2   rechtswert  159185 non-null  float64 \n",
      " 3   gattungart  159180 non-null  category\n",
      " 4   gattung     159185 non-null  category\n",
      " 5   ga_lang     159185 non-null  category\n",
      " 6   kr_durchm   159185 non-null  float64 \n",
      " 7   st_umfang   159185 non-null  float64 \n",
      " 8   gebiet      159185 non-null  category\n",
      " 9   strasse     159185 non-null  category\n",
      " 10  standort    60122 non-null   category\n",
      " 11  baumhoehe   159185 non-null  int64   \n",
      " 12  st_durchm   159185 non-null  int64   \n",
      " 13  pflanzjahr  159185 non-null  int64   \n",
      " 14  baum_statu  830 non-null     category\n",
      " 15  kr_r        159185 non-null  float64 \n",
      "dtypes: category(7), float64(5), int64(3), object(1)\n",
      "memory usage: 14.3+ MB\n"
     ]
    }
   ],
   "source": [
    "data.info()"
   ]
  },
  {
   "cell_type": "markdown",
   "metadata": {},
   "source": [
    "## Subset auf Linden\n",
    "Das Subset beschränkt sich auf weniger Spalten des Originaldatensatzes und nur auf die Gattung der Linden (Tilia)."
   ]
  },
  {
   "cell_type": "code",
   "execution_count": 4,
   "metadata": {},
   "outputs": [],
   "source": [
    "cols_selection = [\"gattung\", \"ga_lang\", \"baumhoehe\", \"kr_durchm\", \"st_umfang\", \"pflanzjahr\"]"
   ]
  },
  {
   "cell_type": "code",
   "execution_count": 5,
   "metadata": {},
   "outputs": [
    {
     "data": {
      "text/html": [
       "<div>\n",
       "<style scoped>\n",
       "    .dataframe tbody tr th:only-of-type {\n",
       "        vertical-align: middle;\n",
       "    }\n",
       "\n",
       "    .dataframe tbody tr th {\n",
       "        vertical-align: top;\n",
       "    }\n",
       "\n",
       "    .dataframe thead th {\n",
       "        text-align: right;\n",
       "    }\n",
       "</style>\n",
       "<table border=\"1\" class=\"dataframe\">\n",
       "  <thead>\n",
       "    <tr style=\"text-align: right;\">\n",
       "      <th></th>\n",
       "      <th>gattung</th>\n",
       "      <th>ga_lang</th>\n",
       "      <th>baumhoehe</th>\n",
       "      <th>kr_durchm</th>\n",
       "      <th>st_umfang</th>\n",
       "      <th>pflanzjahr</th>\n",
       "    </tr>\n",
       "  </thead>\n",
       "  <tbody>\n",
       "    <tr>\n",
       "      <th>75</th>\n",
       "      <td>Tilia</td>\n",
       "      <td>Tilia species, Linde</td>\n",
       "      <td>6</td>\n",
       "      <td>3.0</td>\n",
       "      <td>44.0</td>\n",
       "      <td>2007</td>\n",
       "    </tr>\n",
       "    <tr>\n",
       "      <th>77</th>\n",
       "      <td>Tilia</td>\n",
       "      <td>Tilia x vulgaris -Pallida-, Kaiser-Linde</td>\n",
       "      <td>7</td>\n",
       "      <td>5.0</td>\n",
       "      <td>75.0</td>\n",
       "      <td>2002</td>\n",
       "    </tr>\n",
       "    <tr>\n",
       "      <th>79</th>\n",
       "      <td>Tilia</td>\n",
       "      <td>Tilia species, Linde</td>\n",
       "      <td>16</td>\n",
       "      <td>9.0</td>\n",
       "      <td>148.0</td>\n",
       "      <td>1955</td>\n",
       "    </tr>\n",
       "    <tr>\n",
       "      <th>81</th>\n",
       "      <td>Tilia</td>\n",
       "      <td>Tilia x flaccida, Amerikanische Hybrid-Linde</td>\n",
       "      <td>19</td>\n",
       "      <td>7.0</td>\n",
       "      <td>151.0</td>\n",
       "      <td>1955</td>\n",
       "    </tr>\n",
       "    <tr>\n",
       "      <th>82</th>\n",
       "      <td>Tilia</td>\n",
       "      <td>Tilia platyphyllos, Sommer-Linde</td>\n",
       "      <td>7</td>\n",
       "      <td>4.0</td>\n",
       "      <td>53.0</td>\n",
       "      <td>2002</td>\n",
       "    </tr>\n",
       "    <tr>\n",
       "      <th>83</th>\n",
       "      <td>Tilia</td>\n",
       "      <td>Tilia species, Linde</td>\n",
       "      <td>16</td>\n",
       "      <td>9.0</td>\n",
       "      <td>132.0</td>\n",
       "      <td>1975</td>\n",
       "    </tr>\n",
       "    <tr>\n",
       "      <th>84</th>\n",
       "      <td>Tilia</td>\n",
       "      <td>Tilia x vulgaris -Pallida-, Kaiser-Linde</td>\n",
       "      <td>6</td>\n",
       "      <td>3.0</td>\n",
       "      <td>38.0</td>\n",
       "      <td>2002</td>\n",
       "    </tr>\n",
       "    <tr>\n",
       "      <th>85</th>\n",
       "      <td>Tilia</td>\n",
       "      <td>Tilia tomentosa, Silber-Linde</td>\n",
       "      <td>19</td>\n",
       "      <td>16.0</td>\n",
       "      <td>189.0</td>\n",
       "      <td>1955</td>\n",
       "    </tr>\n",
       "    <tr>\n",
       "      <th>86</th>\n",
       "      <td>Tilia</td>\n",
       "      <td>Tilia x vulgaris -Pallida-, Kaiser-Linde</td>\n",
       "      <td>9</td>\n",
       "      <td>5.0</td>\n",
       "      <td>75.0</td>\n",
       "      <td>2002</td>\n",
       "    </tr>\n",
       "    <tr>\n",
       "      <th>87</th>\n",
       "      <td>Tilia</td>\n",
       "      <td>Tilia x vulgaris -Pallida-, Kaiser-Linde</td>\n",
       "      <td>9</td>\n",
       "      <td>4.0</td>\n",
       "      <td>69.0</td>\n",
       "      <td>2002</td>\n",
       "    </tr>\n",
       "  </tbody>\n",
       "</table>\n",
       "</div>"
      ],
      "text/plain": [
       "   gattung                                       ga_lang  baumhoehe  \\\n",
       "75   Tilia                          Tilia species, Linde          6   \n",
       "77   Tilia      Tilia x vulgaris -Pallida-, Kaiser-Linde          7   \n",
       "79   Tilia                          Tilia species, Linde         16   \n",
       "81   Tilia  Tilia x flaccida, Amerikanische Hybrid-Linde         19   \n",
       "82   Tilia              Tilia platyphyllos, Sommer-Linde          7   \n",
       "83   Tilia                          Tilia species, Linde         16   \n",
       "84   Tilia      Tilia x vulgaris -Pallida-, Kaiser-Linde          6   \n",
       "85   Tilia                 Tilia tomentosa, Silber-Linde         19   \n",
       "86   Tilia      Tilia x vulgaris -Pallida-, Kaiser-Linde          9   \n",
       "87   Tilia      Tilia x vulgaris -Pallida-, Kaiser-Linde          9   \n",
       "\n",
       "    kr_durchm  st_umfang  pflanzjahr  \n",
       "75        3.0       44.0        2007  \n",
       "77        5.0       75.0        2002  \n",
       "79        9.0      148.0        1955  \n",
       "81        7.0      151.0        1955  \n",
       "82        4.0       53.0        2002  \n",
       "83        9.0      132.0        1975  \n",
       "84        3.0       38.0        2002  \n",
       "85       16.0      189.0        1955  \n",
       "86        5.0       75.0        2002  \n",
       "87        4.0       69.0        2002  "
      ]
     },
     "execution_count": 5,
     "metadata": {},
     "output_type": "execute_result"
    }
   ],
   "source": [
    "data = data[data[\"gattung\"] == \"Tilia\"][cols_selection]\n",
    "data.head(10)"
   ]
  },
  {
   "cell_type": "code",
   "execution_count": 6,
   "metadata": {},
   "outputs": [
    {
     "data": {
      "text/plain": [
       "gattung       category\n",
       "ga_lang       category\n",
       "baumhoehe        int64\n",
       "kr_durchm      float64\n",
       "st_umfang      float64\n",
       "pflanzjahr       int64\n",
       "dtype: object"
      ]
     },
     "execution_count": 6,
     "metadata": {},
     "output_type": "execute_result"
    }
   ],
   "source": [
    "data.dtypes"
   ]
  },
  {
   "cell_type": "markdown",
   "metadata": {},
   "source": [
    "### Anpassen der kategorischen Spalten"
   ]
  },
  {
   "cell_type": "code",
   "execution_count": 9,
   "metadata": {},
   "outputs": [
    {
     "data": {
      "text/plain": [
       "664"
      ]
     },
     "execution_count": 9,
     "metadata": {},
     "output_type": "execute_result"
    }
   ],
   "source": [
    "len(data[\"ga_lang\"].value_counts())"
   ]
  },
  {
   "cell_type": "code",
   "execution_count": 10,
   "metadata": {},
   "outputs": [],
   "source": [
    "data[\"gattung\"] = data[\"gattung\"].cat.remove_unused_categories()\n",
    "data[\"ga_lang\"] = data[\"ga_lang\"].cat.remove_unused_categories()"
   ]
  },
  {
   "cell_type": "code",
   "execution_count": 11,
   "metadata": {},
   "outputs": [
    {
     "data": {
      "text/plain": [
       "23"
      ]
     },
     "execution_count": 11,
     "metadata": {},
     "output_type": "execute_result"
    }
   ],
   "source": [
    "len(data[\"ga_lang\"].value_counts())"
   ]
  },
  {
   "cell_type": "code",
   "execution_count": 12,
   "metadata": {},
   "outputs": [
    {
     "data": {
      "text/plain": [
       "ga_lang\n",
       "Tilia cordata, Winter-Linde                                3947\n",
       "Tilia x vulgaris -Pallida-, Kaiser-Linde                   2410\n",
       "Tilia platyphyllos, Sommer-Linde                           1919\n",
       "Tilia species, Linde                                       1821\n",
       "Tilia tomentosa, Silber-Linde                              1540\n",
       "Tilia cordata -Greenspire-, Stadt-Linde                    1135\n",
       "Tilia x euchlora, Krim-Linde                                547\n",
       "Tilia x vulgaris, Holländische Linde                        377\n",
       "Tilia tomentosa -Brabant-, Silber-Linde -Brabant-           374\n",
       "Tilia x moltkei, Moltkes Linde                              242\n",
       "Tilia americana, Amerikanische Linde                        168\n",
       "Tilia cordata -Erecta-, Säulen-Winter-Linde                 157\n",
       "Tilia americana -Nova-, Amerikanische Linde -Nova-          138\n",
       "Tilia cordata -Rancho-, Kleinkronige Winter-Linde            57\n",
       "Tilia x flavescens -Glenleven-, Kegel-Linde -Glenleven-      49\n",
       "Tilia tomentosa ssp. petiolaris, Hänge-Silber-Linde          32\n",
       "Tilia mongolica, Mongolische Linde                            9\n",
       "Tilia x flaccida, Amerikanische Hybrid-Linde                  7\n",
       "Tilia platyphyllos -Örebro-, Sommer-Linde -Örebro-            6\n",
       "Tilia heterophylla, Verschiedenblättrige Linde                4\n",
       "Tilia henryana, Henrys-Linde                                  4\n",
       "Tilia cordata -Merkur-                                        4\n",
       "Tilia platyphyllos -Rubra-, Korallenrote Sommer-Linde         2\n",
       "Name: count, dtype: int64"
      ]
     },
     "execution_count": 12,
     "metadata": {},
     "output_type": "execute_result"
    }
   ],
   "source": [
    "data[\"ga_lang\"].value_counts()"
   ]
  },
  {
   "cell_type": "code",
   "execution_count": null,
   "metadata": {},
   "outputs": [],
   "source": [
    "data.to_parquet(\"../data/subset_baumkataster_frankfurt_2021.parquet\")"
   ]
  },
  {
   "cell_type": "markdown",
   "metadata": {},
   "source": []
  }
 ],
 "metadata": {
  "kernelspec": {
   "display_name": "Python 3.9.13 ('ads3-02-dw')",
   "language": "python",
   "name": "python3"
  },
  "language_info": {
   "codemirror_mode": {
    "name": "ipython",
    "version": 3
   },
   "file_extension": ".py",
   "mimetype": "text/x-python",
   "name": "python",
   "nbconvert_exporter": "python",
   "pygments_lexer": "ipython3",
   "version": "3.11.5"
  },
  "orig_nbformat": 4,
  "vscode": {
   "interpreter": {
    "hash": "1573d45df3c8ffb0496e8c1c5373ffdbcd80cbf5fb67b63920ae9a95902d7a2a"
   }
  }
 },
 "nbformat": 4,
 "nbformat_minor": 2
}
