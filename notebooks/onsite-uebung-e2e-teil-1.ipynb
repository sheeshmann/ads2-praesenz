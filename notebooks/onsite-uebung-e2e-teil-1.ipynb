{
 "cells": [
  {
   "cell_type": "markdown",
   "metadata": {},
   "source": [
    "# Onsite: Übung End-to-End ML\n",
    "\n",
    "Environment für dieses Notebook: `ads-ml-full` (*requirements-py3.11-ads-ml-full.txt*)."
   ]
  },
  {
   "cell_type": "markdown",
   "metadata": {},
   "source": [
    "## Teil 1 - Daten einlesen + Baseline"
   ]
  },
  {
   "cell_type": "code",
   "execution_count": null,
   "metadata": {},
   "outputs": [],
   "source": [
    "# Daten einlesen mit Pandas\n",
    "# Um die Umwandlung von Datentypen kümmern wir uns später\n",
    "\n",
    "import pandas as pd\n",
    "\n",
    "data = ..."
   ]
  },
  {
   "cell_type": "code",
   "execution_count": null,
   "metadata": {},
   "outputs": [],
   "source": [
    "# Daten kurz angucken im Notebook\n",
    "\n",
    "..."
   ]
  },
  {
   "cell_type": "code",
   "execution_count": null,
   "metadata": {},
   "outputs": [],
   "source": [
    "# Daten angucken mit der Data Wrangler Extension\n",
    "\n",
    "..."
   ]
  },
  {
   "cell_type": "code",
   "execution_count": null,
   "metadata": {},
   "outputs": [],
   "source": [
    "# Uppercase bei Spaltennamen auf Lowercase setzen\n",
    "\n",
    "..."
   ]
  },
  {
   "cell_type": "code",
   "execution_count": null,
   "metadata": {},
   "outputs": [],
   "source": [
    "# Descriptive Statistik der numerischen Spalten erstellen\n",
    "\n",
    "..."
   ]
  },
  {
   "cell_type": "code",
   "execution_count": null,
   "metadata": {},
   "outputs": [],
   "source": [
    "# Sind unplausible Werte dabei, die wir direkt behandeln wollen?\n",
    "\n",
    "..."
   ]
  },
  {
   "cell_type": "markdown",
   "metadata": {},
   "source": [
    "Fehlen Daten?"
   ]
  },
  {
   "cell_type": "code",
   "execution_count": null,
   "metadata": {},
   "outputs": [],
   "source": [
    "# Gibt es fehlende Daten?\n",
    "# Tipp: Nutze die Methode `.isna()`\n",
    "\n",
    "..."
   ]
  },
  {
   "cell_type": "code",
   "execution_count": null,
   "metadata": {},
   "outputs": [],
   "source": [
    "# Finden sich in den Daten Spalten, die den Charakter von eindeutigen Schlüsseln haben? Falls ja,\n",
    "# entfernen wir diese in der Übung leichtfertig.\n",
    "\n",
    "data = ..."
   ]
  },
  {
   "cell_type": "code",
   "execution_count": null,
   "metadata": {},
   "outputs": [],
   "source": [
    "# Unterteile die Daten in Trainings- und Testdaten ohne zu Stratifizieren\n",
    "\n",
    "from ... import train_test_split\n",
    "\n",
    "y = \"pflanzjahr\"\n",
    "X = ...\n",
    "\n",
    "test_size = 0.2\n",
    "random_state = 43\n",
    "\n",
    "train_data, test_data = ..."
   ]
  },
  {
   "cell_type": "markdown",
   "metadata": {},
   "source": [
    "- Weshalb ist das Stratifizieren hier noch nicht möglich?\n",
    "  - Beispielantwort: In den Spalten, die für das Stratifizieren in Betracht kommen, gibt es teils einzigartige Werte und es muss immer mindestens zwei Werte geben, damit das Stratifizieren funktioniert. Zunächst müssen wir die seltenen Werte behandeln, bevor wir stratifizieren können."
   ]
  },
  {
   "cell_type": "code",
   "execution_count": null,
   "metadata": {},
   "outputs": [],
   "source": [
    "# Erstelle ein Baseline Modell mit einer linearen Regression, nutze nur die drei vorgegebenen,\n",
    "# numerischen Features und skaliere diese\n",
    "\n",
    "from sklearn.linear_model import ...\n",
    "from sklearn.pipeline import ...\n",
    "from sklearn.preprocessing import ...\n",
    "\n",
    "baseline_features = [\"st_durchm\", \"kr_durchm\", \"baumhoehe\"]\n",
    "pipeline_1 = ...\n",
    "\n",
    "pipeline_1.fit(...)"
   ]
  },
  {
   "cell_type": "code",
   "execution_count": null,
   "metadata": {},
   "outputs": [],
   "source": [
    "# Score die Pipeline auf die Testdaten\n",
    "\n",
    "..."
   ]
  },
  {
   "cell_type": "code",
   "execution_count": null,
   "metadata": {},
   "outputs": [],
   "source": [
    "# Führe eine Kreuzvalidierung durch\n",
    "\n",
    "from ...\n",
    "\n",
    "cross_val_score(estimator=pipeline_1, X=train_data[baseline_features], y=train_data[y], cv=5)"
   ]
  },
  {
   "cell_type": "markdown",
   "metadata": {},
   "source": [
    "- Was fällt an den Ergebnissen auf, ist die Kreuzvalidierung stabil?\n",
    "- Wie sehen die Ergebnisse aus, wenn die Outlier zuvor nicht entfernt wurden?"
   ]
  },
  {
   "cell_type": "markdown",
   "metadata": {},
   "source": []
  }
 ],
 "metadata": {
  "kernelspec": {
   "display_name": "Python 3.9.12 ('ads3-03-e2e')",
   "language": "python",
   "name": "python3"
  },
  "language_info": {
   "codemirror_mode": {
    "name": "ipython",
    "version": 3
   },
   "file_extension": ".py",
   "mimetype": "text/x-python",
   "name": "python",
   "nbconvert_exporter": "python",
   "pygments_lexer": "ipython3",
   "version": "3.11.6"
  },
  "orig_nbformat": 4,
  "vscode": {
   "interpreter": {
    "hash": "7dda575964029847821f774d67ee288cb7761a9a59c41206532536da7da0cf57"
   }
  }
 },
 "nbformat": 4,
 "nbformat_minor": 2
}
