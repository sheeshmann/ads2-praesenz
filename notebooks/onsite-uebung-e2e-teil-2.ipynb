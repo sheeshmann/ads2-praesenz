{
 "cells": [
  {
   "cell_type": "markdown",
   "metadata": {},
   "source": [
    "# Onsite: Übung End-to-End ML\n",
    "\n",
    "Environment für dieses Notebook: `ads-ml-full` (*requirements-py3.11-ads-ml-full.txt*)."
   ]
  },
  {
   "cell_type": "markdown",
   "metadata": {},
   "source": [
    "## Teil 1 - Daten einlesen + Baseline"
   ]
  },
  {
   "cell_type": "code",
   "execution_count": null,
   "metadata": {},
   "outputs": [],
   "source": [
    "# Daten einlesen mit Pandas\n",
    "# Um die Umwandlung von Datentypen kümmern wir uns später\n",
    "\n",
    "# Beispiellösung\n",
    "import pandas as pd\n",
    "\n",
    "data = pd.read_parquet(\"baumkataster_frankfurt_2022.parquet\")"
   ]
  },
  {
   "cell_type": "code",
   "execution_count": null,
   "metadata": {},
   "outputs": [],
   "source": [
    "# Daten kurz angucken im Notebook\n",
    "\n",
    "# Beispiellösung\n",
    "data.sample(3)"
   ]
  },
  {
   "cell_type": "code",
   "execution_count": null,
   "metadata": {},
   "outputs": [],
   "source": [
    "# Daten angucken mit der Data Wrangler Extension\n",
    "\n",
    "# Beispiellösung\n",
    "# data"
   ]
  },
  {
   "cell_type": "code",
   "execution_count": null,
   "metadata": {},
   "outputs": [],
   "source": [
    "# Uppercase bei Spaltennamen auf Lowercase setzen\n",
    "data.columns = [x.lower() for x in data.columns.to_list()]"
   ]
  },
  {
   "cell_type": "code",
   "execution_count": null,
   "metadata": {},
   "outputs": [],
   "source": [
    "# Descriptive Statistik der numerischen Spalten erstellen\n",
    "\n",
    "# Beispiellösung\n",
    "data.describe()"
   ]
  },
  {
   "cell_type": "code",
   "execution_count": null,
   "metadata": {},
   "outputs": [],
   "source": [
    "# Sind unplausible Werte dabei, die wir direkt behandeln wollen?\n",
    "\n",
    "# Beispiellösung\n",
    "# Korrektur unglaubwürdiger Werte\n",
    "data = data[data[\"st_umfang\"] < 1000]\n",
    "data = data[data[\"pflanzjahr\"] < 2023]"
   ]
  },
  {
   "cell_type": "markdown",
   "metadata": {},
   "source": [
    "Fehlen Daten?"
   ]
  },
  {
   "cell_type": "code",
   "execution_count": null,
   "metadata": {},
   "outputs": [],
   "source": [
    "# Gibt es fehlende Daten?\n",
    "# Tipp: Nutze die Methode `.isna()`\n",
    "\n",
    "# Beispiellösung\n",
    "data.isna().sum()"
   ]
  },
  {
   "cell_type": "code",
   "execution_count": null,
   "metadata": {},
   "outputs": [],
   "source": [
    "# Finden sich in den Daten Spalten, die den Charakter von eindeutigen Schlüsseln haben? Falls ja,\n",
    "# entfernen wir diese in der Übung leichtfertig.\n",
    "\n",
    "# Beispiellösung\n",
    "data = data.drop(columns=[\"baumnummer\", \"standort\"])"
   ]
  },
  {
   "cell_type": "code",
   "execution_count": null,
   "metadata": {},
   "outputs": [],
   "source": [
    "# Unterteile die Daten in Trainings- und Testdaten ohne zu Stratifizieren\n",
    "\n",
    "# Beispiellösung\n",
    "from sklearn.model_selection import train_test_split\n",
    "\n",
    "y = \"pflanzjahr\"\n",
    "X = data.columns.to_list()\n",
    "X.remove(y)\n",
    "\n",
    "test_size = 0.2\n",
    "random_state = 43\n",
    "train_data, test_data = train_test_split(data, test_size=test_size, random_state=random_state)"
   ]
  },
  {
   "cell_type": "markdown",
   "metadata": {},
   "source": [
    "- Weshalb ist das Stratifizieren hier noch nicht möglich?\n",
    "  - Beispielantwort: In den Spalten, die für das Stratifizieren in Betracht kommen, gibt es teils einzigartige Werte und es muss immer mindestens zwei Werte geben, damit das Stratifizieren funktioniert. Zunächst müssen wir die seltenen Werte behandeln, bevor wir stratifizieren können."
   ]
  },
  {
   "cell_type": "code",
   "execution_count": null,
   "metadata": {},
   "outputs": [],
   "source": [
    "# Erstelle ein Baseline Modell mit einer linearen Regression, nutze nur die drei vorgegebenen,\n",
    "# numerischen Features und skaliere diese\n",
    "\n",
    "# Beispiellösung\n",
    "from sklearn.linear_model import LinearRegression\n",
    "from sklearn.pipeline import Pipeline\n",
    "from sklearn.preprocessing import StandardScaler\n",
    "\n",
    "baseline_features = [\"st_durchm\", \"kr_durchm\", \"baumhoehe\"]\n",
    "pipeline_1 = Pipeline(steps=[(\"scale\", StandardScaler()), (\"model_linreg\", LinearRegression())])\n",
    "\n",
    "pipeline_1.fit(X=train_data[baseline_features], y=train_data[y])"
   ]
  },
  {
   "cell_type": "code",
   "execution_count": null,
   "metadata": {},
   "outputs": [],
   "source": [
    "# Score die Pipeline auf die Testdaten\n",
    "\n",
    "# Beispiellösung\n",
    "pipeline_1.score(X=test_data[baseline_features], y=test_data[y])"
   ]
  },
  {
   "cell_type": "code",
   "execution_count": null,
   "metadata": {},
   "outputs": [],
   "source": [
    "# Führe eine Kreuzvalidierung durch\n",
    "\n",
    "# Beispiellösung\n",
    "from sklearn.model_selection import cross_val_score\n",
    "\n",
    "cross_val_score(estimator=pipeline_1, X=train_data[baseline_features], y=train_data[y], cv=5)"
   ]
  },
  {
   "cell_type": "markdown",
   "metadata": {},
   "source": [
    "- Was fällt an den Ergebnissen auf, ist die Kreuzvalidierung stabil?\n",
    "- Wie sehen die Ergebnisse aus, wenn die Outlier zuvor nicht entfernt wurden?"
   ]
  },
  {
   "cell_type": "markdown",
   "metadata": {},
   "source": [
    "## Teil 2 - Ridge Regression mit allen Features"
   ]
  },
  {
   "cell_type": "code",
   "execution_count": null,
   "metadata": {},
   "outputs": [],
   "source": [
    "# Ersetze kategorische Werte, die selten vorkommen, mit der Kategorie \"rare\"\n",
    "# Wandle die \"object\" Spalten anschließend um in \"category\"\n",
    "\n",
    "thres_rare = 20\n",
    "cat_cols = ...\n",
    "for cat_col in cat_cols:\n",
    "    counts = ...\n",
    "    rare = ...\n",
    "\n",
    "    if len(rare) > 0:\n",
    "        ...\n",
    "\n",
    "    data[cat_col] = data[cat_col].astype(...)"
   ]
  },
  {
   "cell_type": "code",
   "execution_count": null,
   "metadata": {},
   "outputs": [],
   "source": [
    "# Führe nun den Train-Test Split mit Stratifizierung an einer sinnvollen Spalte durch\n",
    "\n",
    "..."
   ]
  },
  {
   "cell_type": "markdown",
   "metadata": {},
   "source": [
    "Verändern sich die Ergebnisse des Baseline Modells mit den neuen Daten Splits? (einfach nochmal den Fit, das Scoring und die Kreuzvalidierung weiter oben ausführen)"
   ]
  },
  {
   "cell_type": "code",
   "execution_count": null,
   "metadata": {},
   "outputs": [],
   "source": [
    "# Erstelle eine Ridge-Regression mit allen Features\n",
    "# Transformiere die kategorischen Daten und die numerischen Daten mit einem ColumnTransformer\n",
    "# Eine Transformation der kategorischen Daten\n",
    "\n",
    "from sklearn.compose import ColumnTransformer\n",
    "...\n",
    "...\n",
    "\n",
    "num_cols = ...\n",
    "cat_cols = ...\n",
    "\n",
    "ct_2 = ColumnTransformer(\n",
    "    transformers=[\n",
    "        ...\n",
    "    ],\n",
    "    remainder=\"drop\",\n",
    ")\n",
    "pipeline_2 = ...\n",
    "\n",
    "..."
   ]
  },
  {
   "cell_type": "code",
   "execution_count": null,
   "metadata": {},
   "outputs": [],
   "source": [
    "# Score die Pipeline auf die Testdaten\n",
    "\n",
    "..."
   ]
  },
  {
   "cell_type": "code",
   "execution_count": null,
   "metadata": {},
   "outputs": [],
   "source": [
    "# Führe eine Kreuzvalidierung durch\n",
    "\n",
    "..."
   ]
  },
  {
   "cell_type": "markdown",
   "metadata": {},
   "source": []
  }
 ],
 "metadata": {
  "kernelspec": {
   "display_name": "Python 3.9.12 ('ads3-03-e2e')",
   "language": "python",
   "name": "python3"
  },
  "language_info": {
   "codemirror_mode": {
    "name": "ipython",
    "version": 3
   },
   "file_extension": ".py",
   "mimetype": "text/x-python",
   "name": "python",
   "nbconvert_exporter": "python",
   "pygments_lexer": "ipython3",
   "version": "3.11.6"
  },
  "orig_nbformat": 4,
  "vscode": {
   "interpreter": {
    "hash": "7dda575964029847821f774d67ee288cb7761a9a59c41206532536da7da0cf57"
   }
  }
 },
 "nbformat": 4,
 "nbformat_minor": 2
}
