{
 "cells": [
  {
   "cell_type": "markdown",
   "metadata": {},
   "source": [
    "# A - Reproduzierbarkeit vs. Versionsprobleme"
   ]
  },
  {
   "cell_type": "markdown",
   "metadata": {},
   "source": [
    "In der Vergangenheit hat es breaking changes in der scikit-learn API gegeben. Scikit-learn Release History: https://scikit-learn.org/stable/whats_new.html"
   ]
  },
  {
   "cell_type": "code",
   "execution_count": 1,
   "metadata": {},
   "outputs": [],
   "source": [
    "%load_ext autoreload\n",
    "%autoreload 2"
   ]
  },
  {
   "cell_type": "code",
   "execution_count": 2,
   "metadata": {},
   "outputs": [],
   "source": [
    "from repml.datasets.trees_fra import read_trees_fra"
   ]
  },
  {
   "cell_type": "code",
   "execution_count": 3,
   "metadata": {},
   "outputs": [
    {
     "data": {
      "text/plain": [
       "'1.3.2'"
      ]
     },
     "execution_count": 3,
     "metadata": {},
     "output_type": "execute_result"
    }
   ],
   "source": [
    "import sklearn\n",
    "\n",
    "sklearn.__version__"
   ]
  },
  {
   "cell_type": "code",
   "execution_count": 4,
   "metadata": {},
   "outputs": [
    {
     "name": "stdout",
     "output_type": "stream",
     "text": [
      "Collecting scikit-learn==1.1.3\n",
      "  Using cached scikit_learn-1.1.3-cp311-cp311-macosx_10_9_x86_64.whl (8.6 MB)\n",
      "Requirement already satisfied: numpy>=1.17.3 in /usr/local/Caskroom/miniconda/base/envs/ads-ml-light/lib/python3.11/site-packages (from scikit-learn==1.1.3) (1.26.2)\n",
      "Requirement already satisfied: scipy>=1.3.2 in /usr/local/Caskroom/miniconda/base/envs/ads-ml-light/lib/python3.11/site-packages (from scikit-learn==1.1.3) (1.11.4)\n",
      "Requirement already satisfied: joblib>=1.0.0 in /usr/local/Caskroom/miniconda/base/envs/ads-ml-light/lib/python3.11/site-packages (from scikit-learn==1.1.3) (1.3.2)\n",
      "Requirement already satisfied: threadpoolctl>=2.0.0 in /usr/local/Caskroom/miniconda/base/envs/ads-ml-light/lib/python3.11/site-packages (from scikit-learn==1.1.3) (3.2.0)\n",
      "Installing collected packages: scikit-learn\n",
      "  Attempting uninstall: scikit-learn\n",
      "    Found existing installation: scikit-learn 1.3.2\n",
      "    Uninstalling scikit-learn-1.3.2:\n",
      "      Successfully uninstalled scikit-learn-1.3.2\n",
      "Successfully installed scikit-learn-1.1.3\n",
      "Note: you may need to restart the kernel to use updated packages.\n"
     ]
    }
   ],
   "source": [
    "%pip install scikit-learn==1.1.3"
   ]
  },
  {
   "cell_type": "code",
   "execution_count": 6,
   "metadata": {},
   "outputs": [
    {
     "data": {
      "text/plain": [
       "'1.1.3'"
      ]
     },
     "execution_count": 6,
     "metadata": {},
     "output_type": "execute_result"
    }
   ],
   "source": [
    "sklearn.__version__"
   ]
  },
  {
   "cell_type": "code",
   "execution_count": 7,
   "metadata": {},
   "outputs": [],
   "source": [
    "data = read_trees_fra()"
   ]
  },
  {
   "cell_type": "code",
   "execution_count": 8,
   "metadata": {},
   "outputs": [
    {
     "data": {
      "text/plain": [
       "(159185, 16)"
      ]
     },
     "execution_count": 8,
     "metadata": {},
     "output_type": "execute_result"
    }
   ],
   "source": [
    "data.shape"
   ]
  },
  {
   "cell_type": "code",
   "execution_count": 9,
   "metadata": {},
   "outputs": [
    {
     "data": {
      "text/plain": [
       "baumnummer      object\n",
       "hochwert       float64\n",
       "rechtswert     float64\n",
       "gattungart    category\n",
       "gattung       category\n",
       "ga_lang       category\n",
       "kr_durchm      float64\n",
       "st_umfang      float64\n",
       "gebiet        category\n",
       "strasse       category\n",
       "standort      category\n",
       "baumhoehe        int64\n",
       "st_durchm        int64\n",
       "pflanzjahr       int64\n",
       "baum_statu    category\n",
       "kr_r           float64\n",
       "dtype: object"
      ]
     },
     "execution_count": 9,
     "metadata": {},
     "output_type": "execute_result"
    }
   ],
   "source": [
    "data.dtypes"
   ]
  },
  {
   "cell_type": "code",
   "execution_count": 10,
   "metadata": {},
   "outputs": [],
   "source": [
    "cat_cols_subset = [\"gattungart\", \"gattung\", \"gebiet\", \"baum_statu\"]"
   ]
  },
  {
   "cell_type": "code",
   "execution_count": 11,
   "metadata": {},
   "outputs": [
    {
     "data": {
      "text/html": [
       "<style>#sk-container-id-1 {color: black;background-color: white;}#sk-container-id-1 pre{padding: 0;}#sk-container-id-1 div.sk-toggleable {background-color: white;}#sk-container-id-1 label.sk-toggleable__label {cursor: pointer;display: block;width: 100%;margin-bottom: 0;padding: 0.3em;box-sizing: border-box;text-align: center;}#sk-container-id-1 label.sk-toggleable__label-arrow:before {content: \"▸\";float: left;margin-right: 0.25em;color: #696969;}#sk-container-id-1 label.sk-toggleable__label-arrow:hover:before {color: black;}#sk-container-id-1 div.sk-estimator:hover label.sk-toggleable__label-arrow:before {color: black;}#sk-container-id-1 div.sk-toggleable__content {max-height: 0;max-width: 0;overflow: hidden;text-align: left;background-color: #f0f8ff;}#sk-container-id-1 div.sk-toggleable__content pre {margin: 0.2em;color: black;border-radius: 0.25em;background-color: #f0f8ff;}#sk-container-id-1 input.sk-toggleable__control:checked~div.sk-toggleable__content {max-height: 200px;max-width: 100%;overflow: auto;}#sk-container-id-1 input.sk-toggleable__control:checked~label.sk-toggleable__label-arrow:before {content: \"▾\";}#sk-container-id-1 div.sk-estimator input.sk-toggleable__control:checked~label.sk-toggleable__label {background-color: #d4ebff;}#sk-container-id-1 div.sk-label input.sk-toggleable__control:checked~label.sk-toggleable__label {background-color: #d4ebff;}#sk-container-id-1 input.sk-hidden--visually {border: 0;clip: rect(1px 1px 1px 1px);clip: rect(1px, 1px, 1px, 1px);height: 1px;margin: -1px;overflow: hidden;padding: 0;position: absolute;width: 1px;}#sk-container-id-1 div.sk-estimator {font-family: monospace;background-color: #f0f8ff;border: 1px dotted black;border-radius: 0.25em;box-sizing: border-box;margin-bottom: 0.5em;}#sk-container-id-1 div.sk-estimator:hover {background-color: #d4ebff;}#sk-container-id-1 div.sk-parallel-item::after {content: \"\";width: 100%;border-bottom: 1px solid gray;flex-grow: 1;}#sk-container-id-1 div.sk-label:hover label.sk-toggleable__label {background-color: #d4ebff;}#sk-container-id-1 div.sk-serial::before {content: \"\";position: absolute;border-left: 1px solid gray;box-sizing: border-box;top: 0;bottom: 0;left: 50%;z-index: 0;}#sk-container-id-1 div.sk-serial {display: flex;flex-direction: column;align-items: center;background-color: white;padding-right: 0.2em;padding-left: 0.2em;position: relative;}#sk-container-id-1 div.sk-item {position: relative;z-index: 1;}#sk-container-id-1 div.sk-parallel {display: flex;align-items: stretch;justify-content: center;background-color: white;position: relative;}#sk-container-id-1 div.sk-item::before, #sk-container-id-1 div.sk-parallel-item::before {content: \"\";position: absolute;border-left: 1px solid gray;box-sizing: border-box;top: 0;bottom: 0;left: 50%;z-index: -1;}#sk-container-id-1 div.sk-parallel-item {display: flex;flex-direction: column;z-index: 1;position: relative;background-color: white;}#sk-container-id-1 div.sk-parallel-item:first-child::after {align-self: flex-end;width: 50%;}#sk-container-id-1 div.sk-parallel-item:last-child::after {align-self: flex-start;width: 50%;}#sk-container-id-1 div.sk-parallel-item:only-child::after {width: 0;}#sk-container-id-1 div.sk-dashed-wrapped {border: 1px dashed gray;margin: 0 0.4em 0.5em 0.4em;box-sizing: border-box;padding-bottom: 0.4em;background-color: white;}#sk-container-id-1 div.sk-label label {font-family: monospace;font-weight: bold;display: inline-block;line-height: 1.2em;}#sk-container-id-1 div.sk-label-container {text-align: center;}#sk-container-id-1 div.sk-container {/* jupyter's `normalize.less` sets `[hidden] { display: none; }` but bootstrap.min.css set `[hidden] { display: none !important; }` so we also need the `!important` here to be able to override the default hidden behavior on the sphinx rendered scikit-learn.org. See: https://github.com/scikit-learn/scikit-learn/issues/21755 */display: inline-block !important;position: relative;}#sk-container-id-1 div.sk-text-repr-fallback {display: none;}</style><div id=\"sk-container-id-1\" class=\"sk-top-container\"><div class=\"sk-text-repr-fallback\"><pre>OneHotEncoder(handle_unknown=&#x27;ignore&#x27;, sparse=False)</pre><b>In a Jupyter environment, please rerun this cell to show the HTML representation or trust the notebook. <br />On GitHub, the HTML representation is unable to render, please try loading this page with nbviewer.org.</b></div><div class=\"sk-container\" hidden><div class=\"sk-item\"><div class=\"sk-estimator sk-toggleable\"><input class=\"sk-toggleable__control sk-hidden--visually\" id=\"sk-estimator-id-1\" type=\"checkbox\" checked><label for=\"sk-estimator-id-1\" class=\"sk-toggleable__label sk-toggleable__label-arrow\">OneHotEncoder</label><div class=\"sk-toggleable__content\"><pre>OneHotEncoder(handle_unknown=&#x27;ignore&#x27;, sparse=False)</pre></div></div></div></div></div>"
      ],
      "text/plain": [
       "OneHotEncoder(handle_unknown='ignore', sparse=False)"
      ]
     },
     "execution_count": 11,
     "metadata": {},
     "output_type": "execute_result"
    }
   ],
   "source": [
    "from sklearn.preprocessing import OneHotEncoder\n",
    "\n",
    "enc = OneHotEncoder(sparse=False, handle_unknown=\"ignore\")\n",
    "enc.fit(data[cat_cols_subset][:100000])"
   ]
  },
  {
   "cell_type": "code",
   "execution_count": 14,
   "metadata": {},
   "outputs": [
    {
     "data": {
      "text/plain": [
       "array([[0., 0., 0., ..., 0., 0., 1.],\n",
       "       [0., 0., 0., ..., 0., 0., 1.],\n",
       "       [0., 0., 0., ..., 0., 0., 1.],\n",
       "       ...,\n",
       "       [0., 0., 0., ..., 0., 0., 1.],\n",
       "       [0., 0., 0., ..., 0., 0., 1.],\n",
       "       [0., 0., 0., ..., 0., 0., 1.]])"
      ]
     },
     "execution_count": 14,
     "metadata": {},
     "output_type": "execute_result"
    }
   ],
   "source": [
    "enc.transform(data[cat_cols_subset][100000:])"
   ]
  },
  {
   "cell_type": "code",
   "execution_count": 15,
   "metadata": {},
   "outputs": [
    {
     "data": {
      "text/plain": [
       "array(['gattungart_G0001', 'gattungart_G0002', 'gattungart_G0004',\n",
       "       'gattungart_G0005', 'gattungart_G0006', 'gattungart_G0007',\n",
       "       'gattungart_G0008', 'gattungart_G0009', 'gattungart_G0012',\n",
       "       'gattungart_G0013', 'gattungart_G0014', 'gattungart_G0015',\n",
       "       'gattungart_G0020', 'gattungart_G0024', 'gattungart_G0027',\n",
       "       'gattungart_G0030', 'gattungart_G0036', 'gattungart_G0038',\n",
       "       'gattungart_G0039', 'gattungart_G0041', 'gattungart_G0042',\n",
       "       'gattungart_G0043', 'gattungart_G0044', 'gattungart_G0045',\n",
       "       'gattungart_G0046', 'gattungart_G0047', 'gattungart_G0049',\n",
       "       'gattungart_G0051', 'gattungart_G0052', 'gattungart_G0053',\n",
       "       'gattungart_G0054', 'gattungart_G0055', 'gattungart_G0056',\n",
       "       'gattungart_G0057', 'gattungart_G0058', 'gattungart_G0060',\n",
       "       'gattungart_G0061', 'gattungart_G0063', 'gattungart_G0064',\n",
       "       'gattungart_G0065', 'gattungart_G0069', 'gattungart_G0071',\n",
       "       'gattungart_G0072', 'gattungart_G0073', 'gattungart_G0075',\n",
       "       'gattungart_G0076', 'gattungart_G0080', 'gattungart_G0081',\n",
       "       'gattungart_G0082', 'gattungart_G0083', 'gattungart_G0084',\n",
       "       'gattungart_G0085', 'gattungart_G0087', 'gattungart_G0088',\n",
       "       'gattungart_G0089', 'gattungart_G0091', 'gattungart_G0092',\n",
       "       'gattungart_G0094', 'gattungart_G0097', 'gattungart_G0098',\n",
       "       'gattungart_G0101', 'gattungart_G0102', 'gattungart_G0103',\n",
       "       'gattungart_G0105', 'gattungart_G0106', 'gattungart_G0107',\n",
       "       'gattungart_G0108', 'gattungart_G0109', 'gattungart_G0110',\n",
       "       'gattungart_G0111', 'gattungart_G0119', 'gattungart_G0121',\n",
       "       'gattungart_G0123', 'gattungart_G0125', 'gattungart_G0126',\n",
       "       'gattungart_G0127', 'gattungart_G0128', 'gattungart_G0131',\n",
       "       'gattungart_G0133', 'gattungart_G0134', 'gattungart_G0136',\n",
       "       'gattungart_G0139', 'gattungart_G0141', 'gattungart_G0142',\n",
       "       'gattungart_G0144', 'gattungart_G0146', 'gattungart_G0147',\n",
       "       'gattungart_G0149', 'gattungart_G0150', 'gattungart_G0153',\n",
       "       'gattungart_G0156', 'gattungart_G0158', 'gattungart_G0159',\n",
       "       'gattungart_G0162', 'gattungart_G0163', 'gattungart_G0165',\n",
       "       'gattungart_G0166', 'gattungart_G0167', 'gattungart_G0168',\n",
       "       'gattungart_G0169', 'gattungart_G0170', 'gattungart_G0172',\n",
       "       'gattungart_G0173', 'gattungart_G0174', 'gattungart_G0176',\n",
       "       'gattungart_G0178', 'gattungart_G0181', 'gattungart_G0182',\n",
       "       'gattungart_G0185', 'gattungart_G0190', 'gattungart_G0194',\n",
       "       'gattungart_G0195', 'gattungart_G0196', 'gattungart_G0197',\n",
       "       'gattungart_G0198', 'gattungart_G0201', 'gattungart_G0204',\n",
       "       'gattungart_G0206', 'gattungart_G0207', 'gattungart_G0209',\n",
       "       'gattungart_G0210', 'gattungart_G0211', 'gattungart_G0214',\n",
       "       'gattungart_G0217', 'gattungart_G0218', 'gattungart_G0220',\n",
       "       'gattungart_G0221', 'gattungart_G0222', 'gattungart_G0229',\n",
       "       'gattungart_G0230', 'gattungart_G0232', 'gattungart_G0234',\n",
       "       'gattungart_G0235', 'gattungart_G0236', 'gattungart_G0237',\n",
       "       'gattungart_G0238', 'gattungart_G0239', 'gattungart_G0243',\n",
       "       'gattungart_G0244', 'gattungart_G0245', 'gattungart_G0246',\n",
       "       'gattungart_G0248', 'gattungart_G0249', 'gattungart_G0250',\n",
       "       'gattungart_G0251', 'gattungart_G0253', 'gattungart_G0254',\n",
       "       'gattungart_G0256', 'gattungart_G0259', 'gattungart_G0260',\n",
       "       'gattungart_G0261', 'gattungart_G0262', 'gattungart_G0264',\n",
       "       'gattungart_G0266', 'gattungart_G0267', 'gattungart_G0268',\n",
       "       'gattungart_G0269', 'gattungart_G0270', 'gattungart_G0271',\n",
       "       'gattungart_G0272', 'gattungart_G0275', 'gattungart_G0277',\n",
       "       'gattungart_G0279', 'gattungart_G0282', 'gattungart_G0285',\n",
       "       'gattungart_G0286', 'gattungart_G0288', 'gattungart_G0290',\n",
       "       'gattungart_G0295', 'gattungart_G0296', 'gattungart_G0300',\n",
       "       'gattungart_G0301', 'gattungart_G0305', 'gattungart_G0309',\n",
       "       'gattungart_G0310', 'gattungart_G0311', 'gattungart_G0313',\n",
       "       'gattungart_G0316', 'gattungart_G0318', 'gattungart_G0319',\n",
       "       'gattungart_G0322', 'gattungart_G0323', 'gattungart_G0325',\n",
       "       'gattungart_G0329', 'gattungart_G0331', 'gattungart_G0332',\n",
       "       'gattungart_G0337', 'gattungart_G0338', 'gattungart_G0343',\n",
       "       'gattungart_G0344', 'gattungart_G0345', 'gattungart_G0347',\n",
       "       'gattungart_G0348', 'gattungart_G0352', 'gattungart_G0361',\n",
       "       'gattungart_G0365', 'gattungart_G0366', 'gattungart_G0367',\n",
       "       'gattungart_G0369', 'gattungart_G0370', 'gattungart_G0373',\n",
       "       'gattungart_G0375', 'gattungart_G0376', 'gattungart_G0377',\n",
       "       'gattungart_G0379', 'gattungart_G0386', 'gattungart_G0387',\n",
       "       'gattungart_G0390', 'gattungart_G0391', 'gattungart_G0395',\n",
       "       'gattungart_G0396', 'gattungart_G0397', 'gattungart_G0401',\n",
       "       'gattungart_G0402', 'gattungart_G0403', 'gattungart_G0404',\n",
       "       'gattungart_G0409', 'gattungart_G0410', 'gattungart_G0411',\n",
       "       'gattungart_G0413', 'gattungart_G0415', 'gattungart_G0416',\n",
       "       'gattungart_G0418', 'gattungart_G0419', 'gattungart_G0420',\n",
       "       'gattungart_G0421', 'gattungart_G0422', 'gattungart_G0424',\n",
       "       'gattungart_G0428', 'gattungart_G0429', 'gattungart_G0430',\n",
       "       'gattungart_G0432', 'gattungart_G0433', 'gattungart_G0436',\n",
       "       'gattungart_G0438', 'gattungart_G0439', 'gattungart_G0442',\n",
       "       'gattungart_G0444', 'gattungart_G0445', 'gattungart_G0446',\n",
       "       'gattungart_G0447', 'gattungart_G0449', 'gattungart_G0450',\n",
       "       'gattungart_G0451', 'gattungart_G0452', 'gattungart_G0453',\n",
       "       'gattungart_G0454', 'gattungart_G0455', 'gattungart_G0456',\n",
       "       'gattungart_G0457', 'gattungart_G0458', 'gattungart_G0462',\n",
       "       'gattungart_G0463', 'gattungart_G0464', 'gattungart_G0465',\n",
       "       'gattungart_G0466', 'gattungart_G0467', 'gattungart_G0468',\n",
       "       'gattungart_G0469', 'gattungart_G0470', 'gattungart_G0471',\n",
       "       'gattungart_G0473', 'gattungart_G0477', 'gattungart_G0480',\n",
       "       'gattungart_G0481', 'gattungart_G0482', 'gattungart_G0484',\n",
       "       'gattungart_G0485', 'gattungart_G0486', 'gattungart_G0488',\n",
       "       'gattungart_G0489', 'gattungart_G0490', 'gattungart_G0491',\n",
       "       'gattungart_G0492', 'gattungart_G0493', 'gattungart_G0494',\n",
       "       'gattungart_G0496', 'gattungart_G0497', 'gattungart_G0498',\n",
       "       'gattungart_G0500', 'gattungart_G0503', 'gattungart_G0506',\n",
       "       'gattungart_G0511', 'gattungart_G0513', 'gattungart_G0514',\n",
       "       'gattungart_G0515', 'gattungart_G0518', 'gattungart_G0519',\n",
       "       'gattungart_G0520', 'gattungart_G0521', 'gattungart_G0522',\n",
       "       'gattungart_G0523', 'gattungart_G0524', 'gattungart_G0527',\n",
       "       'gattungart_G0528', 'gattungart_G0529', 'gattungart_G0531',\n",
       "       'gattungart_G0533', 'gattungart_G0534', 'gattungart_G0536',\n",
       "       'gattungart_G0541', 'gattungart_G0544', 'gattungart_G0545',\n",
       "       'gattungart_G0548', 'gattungart_G0551', 'gattungart_G0552',\n",
       "       'gattungart_G0553', 'gattungart_G0554', 'gattungart_G0555',\n",
       "       'gattungart_G0556', 'gattungart_G0557', 'gattungart_G0559',\n",
       "       'gattungart_G0561', 'gattungart_G0563', 'gattungart_G0567',\n",
       "       'gattungart_G0568', 'gattungart_G0570', 'gattungart_G0571',\n",
       "       'gattungart_G0572', 'gattungart_G0573', 'gattungart_G0575',\n",
       "       'gattungart_G0576', 'gattungart_G0577', 'gattungart_G0578',\n",
       "       'gattungart_G0579', 'gattungart_G0580', 'gattungart_G0583',\n",
       "       'gattungart_G0584', 'gattungart_G0585', 'gattungart_G0587',\n",
       "       'gattungart_G0589', 'gattungart_G0590', 'gattungart_G0591',\n",
       "       'gattungart_G0595', 'gattungart_G0596', 'gattungart_G0598',\n",
       "       'gattungart_G0599', 'gattungart_G0602', 'gattungart_G0603',\n",
       "       'gattungart_G0604', 'gattungart_G0605', 'gattungart_G0606',\n",
       "       'gattungart_G0608', 'gattungart_G0610', 'gattungart_G0611',\n",
       "       'gattungart_G0612', 'gattungart_G0614', 'gattungart_G0615',\n",
       "       'gattungart_G0617', 'gattungart_G0618', 'gattungart_G0622',\n",
       "       'gattungart_G0625', 'gattungart_G0627', 'gattungart_G0629',\n",
       "       'gattungart_G0630', 'gattungart_G0631', 'gattungart_G0634',\n",
       "       'gattungart_G0639', 'gattungart_G0640', 'gattungart_G0641',\n",
       "       'gattungart_G0642', 'gattungart_G0643', 'gattungart_G0644',\n",
       "       'gattungart_G0645', 'gattungart_G0646', 'gattungart_G0648',\n",
       "       'gattungart_G0649', 'gattungart_G0650', 'gattungart_G0651',\n",
       "       'gattungart_G0652', 'gattungart_G0653', 'gattungart_G0655',\n",
       "       'gattungart_G0656', 'gattungart_G0659', 'gattungart_G0660',\n",
       "       'gattungart_G0661', 'gattungart_G0662', 'gattungart_G0663',\n",
       "       'gattungart_G0664', 'gattungart_G0665', 'gattungart_G0666',\n",
       "       'gattungart_G0667', 'gattungart_G0668', 'gattungart_G0669',\n",
       "       'gattungart_G0671', 'gattungart_G0673', 'gattungart_G0674',\n",
       "       'gattungart_G0676', 'gattungart_G0677', 'gattungart_G0678',\n",
       "       'gattungart_G0681', 'gattungart_G0683', 'gattungart_G0685',\n",
       "       'gattungart_G0688', 'gattungart_G0689', 'gattungart_G0690',\n",
       "       'gattungart_G0692', 'gattungart_G0694', 'gattungart_G0695',\n",
       "       'gattungart_G0698', 'gattungart_G0699', 'gattungart_G0700',\n",
       "       'gattungart_G0701', 'gattungart_G0706', 'gattungart_G0710',\n",
       "       'gattungart_nan', 'gattung_Abies', 'gattung_Acer',\n",
       "       'gattung_Aesculus', 'gattung_Ailanthus', 'gattung_Albizia',\n",
       "       'gattung_Alnus', 'gattung_Amelanchier', 'gattung_Berberis',\n",
       "       'gattung_Betula', 'gattung_Buxus', 'gattung_Calocedrus',\n",
       "       'gattung_Carpinus', 'gattung_Carya', 'gattung_Castanea',\n",
       "       'gattung_Catalpa', 'gattung_Cedrus', 'gattung_Celtis',\n",
       "       'gattung_Cephalotaxus', 'gattung_Cercidiphyllum', 'gattung_Cercis',\n",
       "       'gattung_Chamaecyparis', 'gattung_Citrus', 'gattung_Cladastris',\n",
       "       'gattung_Cornus', 'gattung_Corylus', 'gattung_Cotinus',\n",
       "       'gattung_Cotoneaster', 'gattung_Crataegus', 'gattung_Cryptomeria',\n",
       "       'gattung_Cupressus', 'gattung_Cydonia', 'gattung_Davidia',\n",
       "       'gattung_Diospyros', 'gattung_Elaeagnus', 'gattung_Eriobotrya',\n",
       "       'gattung_Fagus', 'gattung_Ficus', 'gattung_Fontanesia',\n",
       "       'gattung_Fraxinus', 'gattung_Ginkgo', 'gattung_Gleditsia',\n",
       "       'gattung_Gymnocladus', 'gattung_Hibiscus', 'gattung_Hippophae',\n",
       "       'gattung_Ilex', 'gattung_Juglans', 'gattung_Juniperus',\n",
       "       'gattung_Koelreuteria', 'gattung_Laburnum', 'gattung_Larix',\n",
       "       'gattung_Laurus', 'gattung_Liquidambar', 'gattung_Liriodendron',\n",
       "       'gattung_Lunicera', 'gattung_Maclura', 'gattung_Magnolia',\n",
       "       'gattung_Malus', 'gattung_Mespilus', 'gattung_Metasequoia',\n",
       "       'gattung_Morus', 'gattung_Musa', 'gattung_Ostrya',\n",
       "       'gattung_Parrotia', 'gattung_Paulownia', 'gattung_Phellodendron',\n",
       "       'gattung_Phillyrea', 'gattung_Photinia', 'gattung_Picea',\n",
       "       'gattung_Pinus', 'gattung_Platanus', 'gattung_Platycladus',\n",
       "       'gattung_Populus', 'gattung_Prunus', 'gattung_Pseudotsuga',\n",
       "       'gattung_Ptelea', 'gattung_Pterocarya', 'gattung_Pyrus',\n",
       "       'gattung_Quercus', 'gattung_Rhamnus', 'gattung_Rhus',\n",
       "       'gattung_Robinia', 'gattung_Salix', 'gattung_Sambucus',\n",
       "       'gattung_Sequoia', 'gattung_Sequoiadendron', 'gattung_Sorbus',\n",
       "       'gattung_Styphnolobium', 'gattung_Syringa', 'gattung_Tamarix',\n",
       "       'gattung_Taxodium', 'gattung_Taxus', 'gattung_Tetradium',\n",
       "       'gattung_Thuja', 'gattung_Tilia', 'gattung_Trachycarpus',\n",
       "       'gattung_Tsuga', 'gattung_Ulmus', 'gattung_Viburnum',\n",
       "       'gattung_Zanthoxylum', 'gattung_Zelkova', 'gattung_waldartiger',\n",
       "       'gattung_x', 'gebiet_25 Amt für Bau und Immobilien',\n",
       "       'gebiet_40 Stadtschulamt', 'gebiet_41 Kulturamt',\n",
       "       'gebiet_48 Kita Frankfurt', 'gebiet_51 Jugend- und Sozialamt',\n",
       "       'gebiet_52 Sportamt',\n",
       "       'gebiet_57 Kommunale Kinder-, Jugend- und Familienhilfe',\n",
       "       'gebiet_67 Mietliegenschaften', 'gebiet_Grünanlagen',\n",
       "       'gebiet_Park', 'gebiet_Privatfläche', 'gebiet_Spielplätze',\n",
       "       'gebiet_Straßen', 'gebiet_Wald', 'gebiet_Waldspielpark',\n",
       "       'baum_statu_N', 'baum_statu_W', 'baum_statu_nan'], dtype=object)"
      ]
     },
     "execution_count": 15,
     "metadata": {},
     "output_type": "execute_result"
    }
   ],
   "source": [
    "enc.get_feature_names_out()"
   ]
  },
  {
   "cell_type": "markdown",
   "metadata": {},
   "source": [
    "## Output als Pandas Dataframe statt Numpy Arrays"
   ]
  },
  {
   "cell_type": "code",
   "execution_count": 16,
   "metadata": {},
   "outputs": [
    {
     "ename": "TypeError",
     "evalue": "set_config() got an unexpected keyword argument 'transform_output'",
     "output_type": "error",
     "traceback": [
      "\u001b[0;31m---------------------------------------------------------------------------\u001b[0m",
      "\u001b[0;31mTypeError\u001b[0m                                 Traceback (most recent call last)",
      "\u001b[1;32m/Users/seppmacmini/Local/adsc21/notebooks/2A-sk-versions.ipynb Cell 16\u001b[0m line \u001b[0;36m3\n\u001b[1;32m      <a href='vscode-notebook-cell:/Users/seppmacmini/Local/adsc21/notebooks/2A-sk-versions.ipynb#Y122sZmlsZQ%3D%3D?line=0'>1</a>\u001b[0m \u001b[39mfrom\u001b[39;00m \u001b[39msklearn\u001b[39;00m \u001b[39mimport\u001b[39;00m set_config\n\u001b[0;32m----> <a href='vscode-notebook-cell:/Users/seppmacmini/Local/adsc21/notebooks/2A-sk-versions.ipynb#Y122sZmlsZQ%3D%3D?line=2'>3</a>\u001b[0m set_config(transform_output\u001b[39m=\u001b[39;49m\u001b[39m\"\u001b[39;49m\u001b[39mpandas\u001b[39;49m\u001b[39m\"\u001b[39;49m)\n",
      "\u001b[0;31mTypeError\u001b[0m: set_config() got an unexpected keyword argument 'transform_output'"
     ]
    }
   ],
   "source": [
    "from sklearn import set_config\n",
    "\n",
    "set_config(transform_output=\"pandas\")"
   ]
  },
  {
   "cell_type": "markdown",
   "metadata": {},
   "source": [
    "## Release > 1.2"
   ]
  },
  {
   "cell_type": "code",
   "execution_count": 17,
   "metadata": {},
   "outputs": [
    {
     "name": "stdout",
     "output_type": "stream",
     "text": [
      "Collecting scikit-learn==1.3.2\n",
      "  Using cached scikit_learn-1.3.2-cp311-cp311-macosx_10_9_x86_64.whl.metadata (11 kB)\n",
      "Requirement already satisfied: numpy<2.0,>=1.17.3 in /usr/local/Caskroom/miniconda/base/envs/ads-ml-light/lib/python3.11/site-packages (from scikit-learn==1.3.2) (1.26.2)\n",
      "Requirement already satisfied: scipy>=1.5.0 in /usr/local/Caskroom/miniconda/base/envs/ads-ml-light/lib/python3.11/site-packages (from scikit-learn==1.3.2) (1.11.4)\n",
      "Requirement already satisfied: joblib>=1.1.1 in /usr/local/Caskroom/miniconda/base/envs/ads-ml-light/lib/python3.11/site-packages (from scikit-learn==1.3.2) (1.3.2)\n",
      "Requirement already satisfied: threadpoolctl>=2.0.0 in /usr/local/Caskroom/miniconda/base/envs/ads-ml-light/lib/python3.11/site-packages (from scikit-learn==1.3.2) (3.2.0)\n",
      "Using cached scikit_learn-1.3.2-cp311-cp311-macosx_10_9_x86_64.whl (10.1 MB)\n",
      "Installing collected packages: scikit-learn\n",
      "  Attempting uninstall: scikit-learn\n",
      "    Found existing installation: scikit-learn 1.1.3\n",
      "    Uninstalling scikit-learn-1.1.3:\n",
      "      Successfully uninstalled scikit-learn-1.1.3\n",
      "Successfully installed scikit-learn-1.3.2\n",
      "Note: you may need to restart the kernel to use updated packages.\n"
     ]
    }
   ],
   "source": [
    "%pip install scikit-learn==1.3.2"
   ]
  },
  {
   "cell_type": "code",
   "execution_count": 19,
   "metadata": {},
   "outputs": [
    {
     "data": {
      "text/plain": [
       "'1.3.2'"
      ]
     },
     "execution_count": 19,
     "metadata": {},
     "output_type": "execute_result"
    }
   ],
   "source": [
    "sklearn.__version__"
   ]
  },
  {
   "cell_type": "code",
   "execution_count": 20,
   "metadata": {},
   "outputs": [],
   "source": [
    "from sklearn import set_config\n",
    "\n",
    "set_config(transform_output=\"pandas\")"
   ]
  },
  {
   "cell_type": "code",
   "execution_count": 23,
   "metadata": {},
   "outputs": [
    {
     "data": {
      "text/html": [
       "<style>#sk-container-id-3 {color: black;}#sk-container-id-3 pre{padding: 0;}#sk-container-id-3 div.sk-toggleable {background-color: white;}#sk-container-id-3 label.sk-toggleable__label {cursor: pointer;display: block;width: 100%;margin-bottom: 0;padding: 0.3em;box-sizing: border-box;text-align: center;}#sk-container-id-3 label.sk-toggleable__label-arrow:before {content: \"▸\";float: left;margin-right: 0.25em;color: #696969;}#sk-container-id-3 label.sk-toggleable__label-arrow:hover:before {color: black;}#sk-container-id-3 div.sk-estimator:hover label.sk-toggleable__label-arrow:before {color: black;}#sk-container-id-3 div.sk-toggleable__content {max-height: 0;max-width: 0;overflow: hidden;text-align: left;background-color: #f0f8ff;}#sk-container-id-3 div.sk-toggleable__content pre {margin: 0.2em;color: black;border-radius: 0.25em;background-color: #f0f8ff;}#sk-container-id-3 input.sk-toggleable__control:checked~div.sk-toggleable__content {max-height: 200px;max-width: 100%;overflow: auto;}#sk-container-id-3 input.sk-toggleable__control:checked~label.sk-toggleable__label-arrow:before {content: \"▾\";}#sk-container-id-3 div.sk-estimator input.sk-toggleable__control:checked~label.sk-toggleable__label {background-color: #d4ebff;}#sk-container-id-3 div.sk-label input.sk-toggleable__control:checked~label.sk-toggleable__label {background-color: #d4ebff;}#sk-container-id-3 input.sk-hidden--visually {border: 0;clip: rect(1px 1px 1px 1px);clip: rect(1px, 1px, 1px, 1px);height: 1px;margin: -1px;overflow: hidden;padding: 0;position: absolute;width: 1px;}#sk-container-id-3 div.sk-estimator {font-family: monospace;background-color: #f0f8ff;border: 1px dotted black;border-radius: 0.25em;box-sizing: border-box;margin-bottom: 0.5em;}#sk-container-id-3 div.sk-estimator:hover {background-color: #d4ebff;}#sk-container-id-3 div.sk-parallel-item::after {content: \"\";width: 100%;border-bottom: 1px solid gray;flex-grow: 1;}#sk-container-id-3 div.sk-label:hover label.sk-toggleable__label {background-color: #d4ebff;}#sk-container-id-3 div.sk-serial::before {content: \"\";position: absolute;border-left: 1px solid gray;box-sizing: border-box;top: 0;bottom: 0;left: 50%;z-index: 0;}#sk-container-id-3 div.sk-serial {display: flex;flex-direction: column;align-items: center;background-color: white;padding-right: 0.2em;padding-left: 0.2em;position: relative;}#sk-container-id-3 div.sk-item {position: relative;z-index: 1;}#sk-container-id-3 div.sk-parallel {display: flex;align-items: stretch;justify-content: center;background-color: white;position: relative;}#sk-container-id-3 div.sk-item::before, #sk-container-id-3 div.sk-parallel-item::before {content: \"\";position: absolute;border-left: 1px solid gray;box-sizing: border-box;top: 0;bottom: 0;left: 50%;z-index: -1;}#sk-container-id-3 div.sk-parallel-item {display: flex;flex-direction: column;z-index: 1;position: relative;background-color: white;}#sk-container-id-3 div.sk-parallel-item:first-child::after {align-self: flex-end;width: 50%;}#sk-container-id-3 div.sk-parallel-item:last-child::after {align-self: flex-start;width: 50%;}#sk-container-id-3 div.sk-parallel-item:only-child::after {width: 0;}#sk-container-id-3 div.sk-dashed-wrapped {border: 1px dashed gray;margin: 0 0.4em 0.5em 0.4em;box-sizing: border-box;padding-bottom: 0.4em;background-color: white;}#sk-container-id-3 div.sk-label label {font-family: monospace;font-weight: bold;display: inline-block;line-height: 1.2em;}#sk-container-id-3 div.sk-label-container {text-align: center;}#sk-container-id-3 div.sk-container {/* jupyter's `normalize.less` sets `[hidden] { display: none; }` but bootstrap.min.css set `[hidden] { display: none !important; }` so we also need the `!important` here to be able to override the default hidden behavior on the sphinx rendered scikit-learn.org. See: https://github.com/scikit-learn/scikit-learn/issues/21755 */display: inline-block !important;position: relative;}#sk-container-id-3 div.sk-text-repr-fallback {display: none;}</style><div id=\"sk-container-id-3\" class=\"sk-top-container\"><div class=\"sk-text-repr-fallback\"><pre>OneHotEncoder(handle_unknown=&#x27;ignore&#x27;, sparse_output=False)</pre><b>In a Jupyter environment, please rerun this cell to show the HTML representation or trust the notebook. <br />On GitHub, the HTML representation is unable to render, please try loading this page with nbviewer.org.</b></div><div class=\"sk-container\" hidden><div class=\"sk-item\"><div class=\"sk-estimator sk-toggleable\"><input class=\"sk-toggleable__control sk-hidden--visually\" id=\"sk-estimator-id-3\" type=\"checkbox\" checked><label for=\"sk-estimator-id-3\" class=\"sk-toggleable__label sk-toggleable__label-arrow\">OneHotEncoder</label><div class=\"sk-toggleable__content\"><pre>OneHotEncoder(handle_unknown=&#x27;ignore&#x27;, sparse_output=False)</pre></div></div></div></div></div>"
      ],
      "text/plain": [
       "OneHotEncoder(handle_unknown='ignore', sparse_output=False)"
      ]
     },
     "execution_count": 23,
     "metadata": {},
     "output_type": "execute_result"
    }
   ],
   "source": [
    "from sklearn.preprocessing import OneHotEncoder\n",
    "\n",
    "enc = OneHotEncoder(sparse_output=False, handle_unknown=\"ignore\")\n",
    "enc.fit(data[cat_cols_subset][:100000])"
   ]
  },
  {
   "cell_type": "code",
   "execution_count": 24,
   "metadata": {},
   "outputs": [
    {
     "data": {
      "text/html": [
       "<div>\n",
       "<style scoped>\n",
       "    .dataframe tbody tr th:only-of-type {\n",
       "        vertical-align: middle;\n",
       "    }\n",
       "\n",
       "    .dataframe tbody tr th {\n",
       "        vertical-align: top;\n",
       "    }\n",
       "\n",
       "    .dataframe thead th {\n",
       "        text-align: right;\n",
       "    }\n",
       "</style>\n",
       "<table border=\"1\" class=\"dataframe\">\n",
       "  <thead>\n",
       "    <tr style=\"text-align: right;\">\n",
       "      <th></th>\n",
       "      <th>gattungart_G0001</th>\n",
       "      <th>gattungart_G0002</th>\n",
       "      <th>gattungart_G0004</th>\n",
       "      <th>gattungart_G0005</th>\n",
       "      <th>gattungart_G0006</th>\n",
       "      <th>gattungart_G0007</th>\n",
       "      <th>gattungart_G0008</th>\n",
       "      <th>gattungart_G0009</th>\n",
       "      <th>gattungart_G0012</th>\n",
       "      <th>gattungart_G0013</th>\n",
       "      <th>...</th>\n",
       "      <th>gebiet_Grünanlagen</th>\n",
       "      <th>gebiet_Park</th>\n",
       "      <th>gebiet_Privatfläche</th>\n",
       "      <th>gebiet_Spielplätze</th>\n",
       "      <th>gebiet_Straßen</th>\n",
       "      <th>gebiet_Wald</th>\n",
       "      <th>gebiet_Waldspielpark</th>\n",
       "      <th>baum_statu_N</th>\n",
       "      <th>baum_statu_W</th>\n",
       "      <th>baum_statu_nan</th>\n",
       "    </tr>\n",
       "  </thead>\n",
       "  <tbody>\n",
       "    <tr>\n",
       "      <th>100001</th>\n",
       "      <td>0.0</td>\n",
       "      <td>0.0</td>\n",
       "      <td>0.0</td>\n",
       "      <td>0.0</td>\n",
       "      <td>0.0</td>\n",
       "      <td>0.0</td>\n",
       "      <td>0.0</td>\n",
       "      <td>0.0</td>\n",
       "      <td>0.0</td>\n",
       "      <td>0.0</td>\n",
       "      <td>...</td>\n",
       "      <td>1.0</td>\n",
       "      <td>0.0</td>\n",
       "      <td>0.0</td>\n",
       "      <td>0.0</td>\n",
       "      <td>0.0</td>\n",
       "      <td>0.0</td>\n",
       "      <td>0.0</td>\n",
       "      <td>0.0</td>\n",
       "      <td>0.0</td>\n",
       "      <td>1.0</td>\n",
       "    </tr>\n",
       "    <tr>\n",
       "      <th>100002</th>\n",
       "      <td>0.0</td>\n",
       "      <td>0.0</td>\n",
       "      <td>0.0</td>\n",
       "      <td>0.0</td>\n",
       "      <td>0.0</td>\n",
       "      <td>0.0</td>\n",
       "      <td>0.0</td>\n",
       "      <td>0.0</td>\n",
       "      <td>0.0</td>\n",
       "      <td>0.0</td>\n",
       "      <td>...</td>\n",
       "      <td>1.0</td>\n",
       "      <td>0.0</td>\n",
       "      <td>0.0</td>\n",
       "      <td>0.0</td>\n",
       "      <td>0.0</td>\n",
       "      <td>0.0</td>\n",
       "      <td>0.0</td>\n",
       "      <td>0.0</td>\n",
       "      <td>0.0</td>\n",
       "      <td>1.0</td>\n",
       "    </tr>\n",
       "    <tr>\n",
       "      <th>100003</th>\n",
       "      <td>0.0</td>\n",
       "      <td>0.0</td>\n",
       "      <td>0.0</td>\n",
       "      <td>0.0</td>\n",
       "      <td>0.0</td>\n",
       "      <td>0.0</td>\n",
       "      <td>0.0</td>\n",
       "      <td>0.0</td>\n",
       "      <td>0.0</td>\n",
       "      <td>0.0</td>\n",
       "      <td>...</td>\n",
       "      <td>1.0</td>\n",
       "      <td>0.0</td>\n",
       "      <td>0.0</td>\n",
       "      <td>0.0</td>\n",
       "      <td>0.0</td>\n",
       "      <td>0.0</td>\n",
       "      <td>0.0</td>\n",
       "      <td>0.0</td>\n",
       "      <td>0.0</td>\n",
       "      <td>1.0</td>\n",
       "    </tr>\n",
       "    <tr>\n",
       "      <th>100004</th>\n",
       "      <td>0.0</td>\n",
       "      <td>0.0</td>\n",
       "      <td>0.0</td>\n",
       "      <td>0.0</td>\n",
       "      <td>0.0</td>\n",
       "      <td>0.0</td>\n",
       "      <td>0.0</td>\n",
       "      <td>0.0</td>\n",
       "      <td>0.0</td>\n",
       "      <td>0.0</td>\n",
       "      <td>...</td>\n",
       "      <td>1.0</td>\n",
       "      <td>0.0</td>\n",
       "      <td>0.0</td>\n",
       "      <td>0.0</td>\n",
       "      <td>0.0</td>\n",
       "      <td>0.0</td>\n",
       "      <td>0.0</td>\n",
       "      <td>0.0</td>\n",
       "      <td>0.0</td>\n",
       "      <td>1.0</td>\n",
       "    </tr>\n",
       "    <tr>\n",
       "      <th>100005</th>\n",
       "      <td>0.0</td>\n",
       "      <td>0.0</td>\n",
       "      <td>0.0</td>\n",
       "      <td>0.0</td>\n",
       "      <td>0.0</td>\n",
       "      <td>0.0</td>\n",
       "      <td>0.0</td>\n",
       "      <td>0.0</td>\n",
       "      <td>0.0</td>\n",
       "      <td>0.0</td>\n",
       "      <td>...</td>\n",
       "      <td>1.0</td>\n",
       "      <td>0.0</td>\n",
       "      <td>0.0</td>\n",
       "      <td>0.0</td>\n",
       "      <td>0.0</td>\n",
       "      <td>0.0</td>\n",
       "      <td>0.0</td>\n",
       "      <td>0.0</td>\n",
       "      <td>0.0</td>\n",
       "      <td>1.0</td>\n",
       "    </tr>\n",
       "    <tr>\n",
       "      <th>...</th>\n",
       "      <td>...</td>\n",
       "      <td>...</td>\n",
       "      <td>...</td>\n",
       "      <td>...</td>\n",
       "      <td>...</td>\n",
       "      <td>...</td>\n",
       "      <td>...</td>\n",
       "      <td>...</td>\n",
       "      <td>...</td>\n",
       "      <td>...</td>\n",
       "      <td>...</td>\n",
       "      <td>...</td>\n",
       "      <td>...</td>\n",
       "      <td>...</td>\n",
       "      <td>...</td>\n",
       "      <td>...</td>\n",
       "      <td>...</td>\n",
       "      <td>...</td>\n",
       "      <td>...</td>\n",
       "      <td>...</td>\n",
       "      <td>...</td>\n",
       "    </tr>\n",
       "    <tr>\n",
       "      <th>159182</th>\n",
       "      <td>0.0</td>\n",
       "      <td>0.0</td>\n",
       "      <td>0.0</td>\n",
       "      <td>0.0</td>\n",
       "      <td>0.0</td>\n",
       "      <td>0.0</td>\n",
       "      <td>0.0</td>\n",
       "      <td>0.0</td>\n",
       "      <td>0.0</td>\n",
       "      <td>0.0</td>\n",
       "      <td>...</td>\n",
       "      <td>0.0</td>\n",
       "      <td>0.0</td>\n",
       "      <td>0.0</td>\n",
       "      <td>0.0</td>\n",
       "      <td>1.0</td>\n",
       "      <td>0.0</td>\n",
       "      <td>0.0</td>\n",
       "      <td>0.0</td>\n",
       "      <td>0.0</td>\n",
       "      <td>1.0</td>\n",
       "    </tr>\n",
       "    <tr>\n",
       "      <th>159183</th>\n",
       "      <td>0.0</td>\n",
       "      <td>0.0</td>\n",
       "      <td>0.0</td>\n",
       "      <td>0.0</td>\n",
       "      <td>0.0</td>\n",
       "      <td>0.0</td>\n",
       "      <td>0.0</td>\n",
       "      <td>0.0</td>\n",
       "      <td>0.0</td>\n",
       "      <td>0.0</td>\n",
       "      <td>...</td>\n",
       "      <td>0.0</td>\n",
       "      <td>0.0</td>\n",
       "      <td>0.0</td>\n",
       "      <td>0.0</td>\n",
       "      <td>1.0</td>\n",
       "      <td>0.0</td>\n",
       "      <td>0.0</td>\n",
       "      <td>0.0</td>\n",
       "      <td>0.0</td>\n",
       "      <td>1.0</td>\n",
       "    </tr>\n",
       "    <tr>\n",
       "      <th>159184</th>\n",
       "      <td>0.0</td>\n",
       "      <td>0.0</td>\n",
       "      <td>0.0</td>\n",
       "      <td>0.0</td>\n",
       "      <td>0.0</td>\n",
       "      <td>0.0</td>\n",
       "      <td>0.0</td>\n",
       "      <td>0.0</td>\n",
       "      <td>0.0</td>\n",
       "      <td>0.0</td>\n",
       "      <td>...</td>\n",
       "      <td>0.0</td>\n",
       "      <td>0.0</td>\n",
       "      <td>0.0</td>\n",
       "      <td>0.0</td>\n",
       "      <td>1.0</td>\n",
       "      <td>0.0</td>\n",
       "      <td>0.0</td>\n",
       "      <td>0.0</td>\n",
       "      <td>0.0</td>\n",
       "      <td>1.0</td>\n",
       "    </tr>\n",
       "    <tr>\n",
       "      <th>159185</th>\n",
       "      <td>0.0</td>\n",
       "      <td>0.0</td>\n",
       "      <td>0.0</td>\n",
       "      <td>0.0</td>\n",
       "      <td>0.0</td>\n",
       "      <td>0.0</td>\n",
       "      <td>0.0</td>\n",
       "      <td>0.0</td>\n",
       "      <td>0.0</td>\n",
       "      <td>0.0</td>\n",
       "      <td>...</td>\n",
       "      <td>1.0</td>\n",
       "      <td>0.0</td>\n",
       "      <td>0.0</td>\n",
       "      <td>0.0</td>\n",
       "      <td>0.0</td>\n",
       "      <td>0.0</td>\n",
       "      <td>0.0</td>\n",
       "      <td>0.0</td>\n",
       "      <td>0.0</td>\n",
       "      <td>1.0</td>\n",
       "    </tr>\n",
       "    <tr>\n",
       "      <th>159186</th>\n",
       "      <td>0.0</td>\n",
       "      <td>0.0</td>\n",
       "      <td>0.0</td>\n",
       "      <td>0.0</td>\n",
       "      <td>0.0</td>\n",
       "      <td>0.0</td>\n",
       "      <td>0.0</td>\n",
       "      <td>0.0</td>\n",
       "      <td>0.0</td>\n",
       "      <td>0.0</td>\n",
       "      <td>...</td>\n",
       "      <td>1.0</td>\n",
       "      <td>0.0</td>\n",
       "      <td>0.0</td>\n",
       "      <td>0.0</td>\n",
       "      <td>0.0</td>\n",
       "      <td>0.0</td>\n",
       "      <td>0.0</td>\n",
       "      <td>0.0</td>\n",
       "      <td>0.0</td>\n",
       "      <td>1.0</td>\n",
       "    </tr>\n",
       "  </tbody>\n",
       "</table>\n",
       "<p>59185 rows × 526 columns</p>\n",
       "</div>"
      ],
      "text/plain": [
       "        gattungart_G0001  gattungart_G0002  gattungart_G0004  \\\n",
       "100001               0.0               0.0               0.0   \n",
       "100002               0.0               0.0               0.0   \n",
       "100003               0.0               0.0               0.0   \n",
       "100004               0.0               0.0               0.0   \n",
       "100005               0.0               0.0               0.0   \n",
       "...                  ...               ...               ...   \n",
       "159182               0.0               0.0               0.0   \n",
       "159183               0.0               0.0               0.0   \n",
       "159184               0.0               0.0               0.0   \n",
       "159185               0.0               0.0               0.0   \n",
       "159186               0.0               0.0               0.0   \n",
       "\n",
       "        gattungart_G0005  gattungart_G0006  gattungart_G0007  \\\n",
       "100001               0.0               0.0               0.0   \n",
       "100002               0.0               0.0               0.0   \n",
       "100003               0.0               0.0               0.0   \n",
       "100004               0.0               0.0               0.0   \n",
       "100005               0.0               0.0               0.0   \n",
       "...                  ...               ...               ...   \n",
       "159182               0.0               0.0               0.0   \n",
       "159183               0.0               0.0               0.0   \n",
       "159184               0.0               0.0               0.0   \n",
       "159185               0.0               0.0               0.0   \n",
       "159186               0.0               0.0               0.0   \n",
       "\n",
       "        gattungart_G0008  gattungart_G0009  gattungart_G0012  \\\n",
       "100001               0.0               0.0               0.0   \n",
       "100002               0.0               0.0               0.0   \n",
       "100003               0.0               0.0               0.0   \n",
       "100004               0.0               0.0               0.0   \n",
       "100005               0.0               0.0               0.0   \n",
       "...                  ...               ...               ...   \n",
       "159182               0.0               0.0               0.0   \n",
       "159183               0.0               0.0               0.0   \n",
       "159184               0.0               0.0               0.0   \n",
       "159185               0.0               0.0               0.0   \n",
       "159186               0.0               0.0               0.0   \n",
       "\n",
       "        gattungart_G0013  ...  gebiet_Grünanlagen  gebiet_Park  \\\n",
       "100001               0.0  ...                 1.0          0.0   \n",
       "100002               0.0  ...                 1.0          0.0   \n",
       "100003               0.0  ...                 1.0          0.0   \n",
       "100004               0.0  ...                 1.0          0.0   \n",
       "100005               0.0  ...                 1.0          0.0   \n",
       "...                  ...  ...                 ...          ...   \n",
       "159182               0.0  ...                 0.0          0.0   \n",
       "159183               0.0  ...                 0.0          0.0   \n",
       "159184               0.0  ...                 0.0          0.0   \n",
       "159185               0.0  ...                 1.0          0.0   \n",
       "159186               0.0  ...                 1.0          0.0   \n",
       "\n",
       "        gebiet_Privatfläche  gebiet_Spielplätze  gebiet_Straßen  gebiet_Wald  \\\n",
       "100001                  0.0                 0.0             0.0          0.0   \n",
       "100002                  0.0                 0.0             0.0          0.0   \n",
       "100003                  0.0                 0.0             0.0          0.0   \n",
       "100004                  0.0                 0.0             0.0          0.0   \n",
       "100005                  0.0                 0.0             0.0          0.0   \n",
       "...                     ...                 ...             ...          ...   \n",
       "159182                  0.0                 0.0             1.0          0.0   \n",
       "159183                  0.0                 0.0             1.0          0.0   \n",
       "159184                  0.0                 0.0             1.0          0.0   \n",
       "159185                  0.0                 0.0             0.0          0.0   \n",
       "159186                  0.0                 0.0             0.0          0.0   \n",
       "\n",
       "        gebiet_Waldspielpark  baum_statu_N  baum_statu_W  baum_statu_nan  \n",
       "100001                   0.0           0.0           0.0             1.0  \n",
       "100002                   0.0           0.0           0.0             1.0  \n",
       "100003                   0.0           0.0           0.0             1.0  \n",
       "100004                   0.0           0.0           0.0             1.0  \n",
       "100005                   0.0           0.0           0.0             1.0  \n",
       "...                      ...           ...           ...             ...  \n",
       "159182                   0.0           0.0           0.0             1.0  \n",
       "159183                   0.0           0.0           0.0             1.0  \n",
       "159184                   0.0           0.0           0.0             1.0  \n",
       "159185                   0.0           0.0           0.0             1.0  \n",
       "159186                   0.0           0.0           0.0             1.0  \n",
       "\n",
       "[59185 rows x 526 columns]"
      ]
     },
     "execution_count": 24,
     "metadata": {},
     "output_type": "execute_result"
    }
   ],
   "source": [
    "enc.transform(data[cat_cols_subset][100000:])"
   ]
  },
  {
   "cell_type": "markdown",
   "metadata": {},
   "source": [
    "## Downgrades können sich beim Installieren weiterer Pakete einschleichen"
   ]
  },
  {
   "cell_type": "code",
   "execution_count": 25,
   "metadata": {},
   "outputs": [
    {
     "data": {
      "text/plain": [
       "'2.1.3'"
      ]
     },
     "execution_count": 25,
     "metadata": {},
     "output_type": "execute_result"
    }
   ],
   "source": [
    "import pandas as pd\n",
    "\n",
    "pd.__version__"
   ]
  },
  {
   "cell_type": "code",
   "execution_count": 26,
   "metadata": {},
   "outputs": [
    {
     "name": "stdout",
     "output_type": "stream",
     "text": [
      "Collecting ydata-profiling==4.6.1\n",
      "  Using cached ydata_profiling-4.6.1-py2.py3-none-any.whl.metadata (20 kB)\n",
      "Requirement already satisfied: scipy<1.12,>=1.4.1 in /usr/local/Caskroom/miniconda/base/envs/ads-ml-light/lib/python3.11/site-packages (from ydata-profiling==4.6.1) (1.11.4)\n",
      "Collecting pandas!=1.4.0,<2.1,>1.1 (from ydata-profiling==4.6.1)\n",
      "  Using cached pandas-2.0.3-cp311-cp311-macosx_10_9_x86_64.whl.metadata (18 kB)\n",
      "Collecting matplotlib<=3.7.3,>=3.2 (from ydata-profiling==4.6.1)\n",
      "  Using cached matplotlib-3.7.3-cp311-cp311-macosx_10_12_x86_64.whl.metadata (5.7 kB)\n",
      "Collecting pydantic>=2 (from ydata-profiling==4.6.1)\n",
      "  Using cached pydantic-2.5.2-py3-none-any.whl.metadata (65 kB)\n",
      "Requirement already satisfied: PyYAML<6.1,>=5.0.0 in /usr/local/Caskroom/miniconda/base/envs/ads-ml-light/lib/python3.11/site-packages (from ydata-profiling==4.6.1) (6.0.1)\n",
      "Requirement already satisfied: jinja2<3.2,>=2.11.1 in /usr/local/Caskroom/miniconda/base/envs/ads-ml-light/lib/python3.11/site-packages (from ydata-profiling==4.6.1) (3.1.2)\n",
      "Collecting visions==0.7.5 (from visions[type_image_path]==0.7.5->ydata-profiling==4.6.1)\n",
      "  Using cached visions-0.7.5-py3-none-any.whl (102 kB)\n",
      "Collecting numpy<1.26,>=1.16.0 (from ydata-profiling==4.6.1)\n",
      "  Using cached numpy-1.25.2-cp311-cp311-macosx_10_9_x86_64.whl.metadata (5.6 kB)\n",
      "Collecting htmlmin==0.1.12 (from ydata-profiling==4.6.1)\n",
      "  Using cached htmlmin-0.1.12-py3-none-any.whl\n",
      "Collecting phik<0.13,>=0.11.1 (from ydata-profiling==4.6.1)\n",
      "  Using cached phik-0.12.3-cp311-cp311-macosx_10_13_x86_64.whl (652 kB)\n",
      "Requirement already satisfied: requests<3,>=2.24.0 in /usr/local/Caskroom/miniconda/base/envs/ads-ml-light/lib/python3.11/site-packages (from ydata-profiling==4.6.1) (2.31.0)\n",
      "Requirement already satisfied: tqdm<5,>=4.48.2 in /usr/local/Caskroom/miniconda/base/envs/ads-ml-light/lib/python3.11/site-packages (from ydata-profiling==4.6.1) (4.66.1)\n",
      "Collecting seaborn<0.13,>=0.10.1 (from ydata-profiling==4.6.1)\n",
      "  Using cached seaborn-0.12.2-py3-none-any.whl (293 kB)\n",
      "Collecting multimethod<2,>=1.4 (from ydata-profiling==4.6.1)\n",
      "  Using cached multimethod-1.10-py3-none-any.whl.metadata (8.2 kB)\n",
      "Collecting statsmodels<1,>=0.13.2 (from ydata-profiling==4.6.1)\n",
      "  Using cached statsmodels-0.14.0-cp311-cp311-macosx_10_9_x86_64.whl (9.9 MB)\n",
      "Collecting typeguard<5,>=4.1.2 (from ydata-profiling==4.6.1)\n",
      "  Using cached typeguard-4.1.5-py3-none-any.whl.metadata (3.7 kB)\n",
      "Collecting imagehash==4.3.1 (from ydata-profiling==4.6.1)\n",
      "  Using cached ImageHash-4.3.1-py2.py3-none-any.whl (296 kB)\n",
      "Collecting wordcloud>=1.9.1 (from ydata-profiling==4.6.1)\n",
      "  Using cached wordcloud-1.9.2-cp311-cp311-macosx_10_9_x86_64.whl.metadata (3.3 kB)\n",
      "Collecting dacite>=1.8 (from ydata-profiling==4.6.1)\n",
      "  Using cached dacite-1.8.1-py3-none-any.whl.metadata (15 kB)\n",
      "Collecting numba<0.59.0,>=0.56.0 (from ydata-profiling==4.6.1)\n",
      "  Using cached numba-0.58.1-cp311-cp311-macosx_10_9_x86_64.whl.metadata (2.7 kB)\n",
      "Collecting PyWavelets (from imagehash==4.3.1->ydata-profiling==4.6.1)\n",
      "  Using cached pywavelets-1.5.0-cp311-cp311-macosx_10_13_x86_64.whl.metadata (9.0 kB)\n",
      "Requirement already satisfied: pillow in /usr/local/Caskroom/miniconda/base/envs/ads-ml-light/lib/python3.11/site-packages (from imagehash==4.3.1->ydata-profiling==4.6.1) (10.1.0)\n",
      "Requirement already satisfied: attrs>=19.3.0 in /usr/local/Caskroom/miniconda/base/envs/ads-ml-light/lib/python3.11/site-packages (from visions==0.7.5->visions[type_image_path]==0.7.5->ydata-profiling==4.6.1) (23.1.0)\n",
      "Collecting networkx>=2.4 (from visions==0.7.5->visions[type_image_path]==0.7.5->ydata-profiling==4.6.1)\n",
      "  Using cached networkx-3.2.1-py3-none-any.whl.metadata (5.2 kB)\n",
      "Collecting tangled-up-in-unicode>=0.0.4 (from visions==0.7.5->visions[type_image_path]==0.7.5->ydata-profiling==4.6.1)\n",
      "  Using cached tangled_up_in_unicode-0.2.0-py3-none-any.whl (4.7 MB)\n",
      "Requirement already satisfied: MarkupSafe>=2.0 in /usr/local/Caskroom/miniconda/base/envs/ads-ml-light/lib/python3.11/site-packages (from jinja2<3.2,>=2.11.1->ydata-profiling==4.6.1) (2.1.3)\n",
      "Requirement already satisfied: contourpy>=1.0.1 in /usr/local/Caskroom/miniconda/base/envs/ads-ml-light/lib/python3.11/site-packages (from matplotlib<=3.7.3,>=3.2->ydata-profiling==4.6.1) (1.2.0)\n",
      "Requirement already satisfied: cycler>=0.10 in /usr/local/Caskroom/miniconda/base/envs/ads-ml-light/lib/python3.11/site-packages (from matplotlib<=3.7.3,>=3.2->ydata-profiling==4.6.1) (0.12.1)\n",
      "Requirement already satisfied: fonttools>=4.22.0 in /usr/local/Caskroom/miniconda/base/envs/ads-ml-light/lib/python3.11/site-packages (from matplotlib<=3.7.3,>=3.2->ydata-profiling==4.6.1) (4.45.0)\n",
      "Requirement already satisfied: kiwisolver>=1.0.1 in /usr/local/Caskroom/miniconda/base/envs/ads-ml-light/lib/python3.11/site-packages (from matplotlib<=3.7.3,>=3.2->ydata-profiling==4.6.1) (1.4.5)\n",
      "Requirement already satisfied: packaging>=20.0 in /usr/local/Caskroom/miniconda/base/envs/ads-ml-light/lib/python3.11/site-packages (from matplotlib<=3.7.3,>=3.2->ydata-profiling==4.6.1) (23.2)\n",
      "Requirement already satisfied: pyparsing>=2.3.1 in /usr/local/Caskroom/miniconda/base/envs/ads-ml-light/lib/python3.11/site-packages (from matplotlib<=3.7.3,>=3.2->ydata-profiling==4.6.1) (3.1.1)\n",
      "Requirement already satisfied: python-dateutil>=2.7 in /usr/local/Caskroom/miniconda/base/envs/ads-ml-light/lib/python3.11/site-packages (from matplotlib<=3.7.3,>=3.2->ydata-profiling==4.6.1) (2.8.2)\n",
      "Collecting llvmlite<0.42,>=0.41.0dev0 (from numba<0.59.0,>=0.56.0->ydata-profiling==4.6.1)\n",
      "  Using cached llvmlite-0.41.1-cp311-cp311-macosx_10_9_x86_64.whl.metadata (4.8 kB)\n",
      "Requirement already satisfied: pytz>=2020.1 in /usr/local/Caskroom/miniconda/base/envs/ads-ml-light/lib/python3.11/site-packages (from pandas!=1.4.0,<2.1,>1.1->ydata-profiling==4.6.1) (2023.3.post1)\n",
      "Requirement already satisfied: tzdata>=2022.1 in /usr/local/Caskroom/miniconda/base/envs/ads-ml-light/lib/python3.11/site-packages (from pandas!=1.4.0,<2.1,>1.1->ydata-profiling==4.6.1) (2023.3)\n",
      "Requirement already satisfied: joblib>=0.14.1 in /usr/local/Caskroom/miniconda/base/envs/ads-ml-light/lib/python3.11/site-packages (from phik<0.13,>=0.11.1->ydata-profiling==4.6.1) (1.3.2)\n",
      "Collecting annotated-types>=0.4.0 (from pydantic>=2->ydata-profiling==4.6.1)\n",
      "  Using cached annotated_types-0.6.0-py3-none-any.whl.metadata (12 kB)\n",
      "Collecting pydantic-core==2.14.5 (from pydantic>=2->ydata-profiling==4.6.1)\n",
      "  Using cached pydantic_core-2.14.5-cp311-cp311-macosx_10_7_x86_64.whl.metadata (6.5 kB)\n",
      "Requirement already satisfied: typing-extensions>=4.6.1 in /usr/local/Caskroom/miniconda/base/envs/ads-ml-light/lib/python3.11/site-packages (from pydantic>=2->ydata-profiling==4.6.1) (4.8.0)\n",
      "Requirement already satisfied: charset-normalizer<4,>=2 in /usr/local/Caskroom/miniconda/base/envs/ads-ml-light/lib/python3.11/site-packages (from requests<3,>=2.24.0->ydata-profiling==4.6.1) (3.3.2)\n",
      "Requirement already satisfied: idna<4,>=2.5 in /usr/local/Caskroom/miniconda/base/envs/ads-ml-light/lib/python3.11/site-packages (from requests<3,>=2.24.0->ydata-profiling==4.6.1) (3.4)\n",
      "Requirement already satisfied: urllib3<3,>=1.21.1 in /usr/local/Caskroom/miniconda/base/envs/ads-ml-light/lib/python3.11/site-packages (from requests<3,>=2.24.0->ydata-profiling==4.6.1) (2.1.0)\n",
      "Requirement already satisfied: certifi>=2017.4.17 in /usr/local/Caskroom/miniconda/base/envs/ads-ml-light/lib/python3.11/site-packages (from requests<3,>=2.24.0->ydata-profiling==4.6.1) (2023.11.17)\n",
      "Collecting patsy>=0.5.2 (from statsmodels<1,>=0.13.2->ydata-profiling==4.6.1)\n",
      "  Downloading patsy-0.5.4-py2.py3-none-any.whl.metadata (3.4 kB)\n",
      "Requirement already satisfied: six in /usr/local/Caskroom/miniconda/base/envs/ads-ml-light/lib/python3.11/site-packages (from patsy>=0.5.2->statsmodels<1,>=0.13.2->ydata-profiling==4.6.1) (1.16.0)\n",
      "Using cached ydata_profiling-4.6.1-py2.py3-none-any.whl (357 kB)\n",
      "Using cached dacite-1.8.1-py3-none-any.whl (14 kB)\n",
      "Using cached matplotlib-3.7.3-cp311-cp311-macosx_10_12_x86_64.whl (7.4 MB)\n",
      "Using cached multimethod-1.10-py3-none-any.whl (9.9 kB)\n",
      "Using cached numba-0.58.1-cp311-cp311-macosx_10_9_x86_64.whl (2.6 MB)\n",
      "Using cached numpy-1.25.2-cp311-cp311-macosx_10_9_x86_64.whl (20.8 MB)\n",
      "Using cached pandas-2.0.3-cp311-cp311-macosx_10_9_x86_64.whl (11.6 MB)\n",
      "Using cached pydantic-2.5.2-py3-none-any.whl (381 kB)\n",
      "Using cached pydantic_core-2.14.5-cp311-cp311-macosx_10_7_x86_64.whl (1.9 MB)\n",
      "Using cached typeguard-4.1.5-py3-none-any.whl (34 kB)\n",
      "Using cached wordcloud-1.9.2-cp311-cp311-macosx_10_9_x86_64.whl (159 kB)\n",
      "Using cached annotated_types-0.6.0-py3-none-any.whl (12 kB)\n",
      "Using cached llvmlite-0.41.1-cp311-cp311-macosx_10_9_x86_64.whl (31.0 MB)\n",
      "Using cached networkx-3.2.1-py3-none-any.whl (1.6 MB)\n",
      "Downloading patsy-0.5.4-py2.py3-none-any.whl (233 kB)\n",
      "\u001b[2K   \u001b[90m━━━━━━━━━━━━━━━━━━━━━━━━━━━━━━━━━━━━━━━━\u001b[0m \u001b[32m233.9/233.9 kB\u001b[0m \u001b[31m3.6 MB/s\u001b[0m eta \u001b[36m0:00:00\u001b[0m \u001b[36m0:00:01\u001b[0m\n",
      "\u001b[?25hUsing cached pywavelets-1.5.0-cp311-cp311-macosx_10_13_x86_64.whl (4.4 MB)\n",
      "Installing collected packages: htmlmin, typeguard, tangled-up-in-unicode, pydantic-core, numpy, networkx, multimethod, llvmlite, dacite, annotated-types, PyWavelets, pydantic, patsy, pandas, numba, visions, statsmodels, matplotlib, imagehash, wordcloud, seaborn, phik, ydata-profiling\n",
      "  Attempting uninstall: numpy\n",
      "    Found existing installation: numpy 1.26.2\n",
      "    Uninstalling numpy-1.26.2:\n",
      "      Successfully uninstalled numpy-1.26.2\n",
      "  Attempting uninstall: pandas\n",
      "    Found existing installation: pandas 2.1.3\n",
      "    Uninstalling pandas-2.1.3:\n",
      "      Successfully uninstalled pandas-2.1.3\n",
      "  Attempting uninstall: matplotlib\n",
      "    Found existing installation: matplotlib 3.8.2\n",
      "    Uninstalling matplotlib-3.8.2:\n",
      "      Successfully uninstalled matplotlib-3.8.2\n",
      "  Attempting uninstall: seaborn\n",
      "    Found existing installation: seaborn 0.13.0\n",
      "    Uninstalling seaborn-0.13.0:\n",
      "      Successfully uninstalled seaborn-0.13.0\n",
      "Successfully installed PyWavelets-1.5.0 annotated-types-0.6.0 dacite-1.8.1 htmlmin-0.1.12 imagehash-4.3.1 llvmlite-0.41.1 matplotlib-3.7.3 multimethod-1.10 networkx-3.2.1 numba-0.58.1 numpy-1.25.2 pandas-2.0.3 patsy-0.5.4 phik-0.12.3 pydantic-2.5.2 pydantic-core-2.14.5 seaborn-0.12.2 statsmodels-0.14.0 tangled-up-in-unicode-0.2.0 typeguard-4.1.5 visions-0.7.5 wordcloud-1.9.2 ydata-profiling-4.6.1\n",
      "Note: you may need to restart the kernel to use updated packages.\n"
     ]
    }
   ],
   "source": [
    "%pip install ydata-profiling==4.6.1"
   ]
  },
  {
   "cell_type": "code",
   "execution_count": 28,
   "metadata": {},
   "outputs": [
    {
     "data": {
      "text/plain": [
       "'2.0.3'"
      ]
     },
     "execution_count": 28,
     "metadata": {},
     "output_type": "execute_result"
    }
   ],
   "source": [
    "pd.__version__"
   ]
  },
  {
   "cell_type": "markdown",
   "metadata": {},
   "source": [
    "Jetzt solltet ihr die Requirements für diese Environment wie in `requirements-py3.11-ads-ml-light.txt` neu installieren!"
   ]
  },
  {
   "cell_type": "markdown",
   "metadata": {},
   "source": []
  }
 ],
 "metadata": {
  "kernelspec": {
   "display_name": "Python 3.9.12 ('ads3-02-dw')",
   "language": "python",
   "name": "python3"
  },
  "language_info": {
   "codemirror_mode": {
    "name": "ipython",
    "version": 3
   },
   "file_extension": ".py",
   "mimetype": "text/x-python",
   "name": "python",
   "nbconvert_exporter": "python",
   "pygments_lexer": "ipython3",
   "version": "3.11.5"
  },
  "orig_nbformat": 4,
  "vscode": {
   "interpreter": {
    "hash": "1573d45df3c8ffb0496e8c1c5373ffdbcd80cbf5fb67b63920ae9a95902d7a2a"
   }
  }
 },
 "nbformat": 4,
 "nbformat_minor": 2
}
