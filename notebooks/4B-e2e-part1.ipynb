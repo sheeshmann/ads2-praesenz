{
 "cells": [
  {
   "cell_type": "markdown",
   "metadata": {},
   "source": [
    "# B - End-to-End ML Part 1: Feature Engineering + Baseline Modell\n",
    "\n",
    "Environment für dieses Notebook: `ads-ml-full` (*requirements-py3.11-ads-ml-full.txt*)."
   ]
  },
  {
   "cell_type": "markdown",
   "metadata": {},
   "source": [
    "\n",
    "## Daten einlesen"
   ]
  },
  {
   "cell_type": "code",
   "execution_count": 1,
   "metadata": {},
   "outputs": [],
   "source": [
    "from repml.datasets.trees_ber import read_trees_ber\n",
    "\n",
    "data = read_trees_ber()"
   ]
  },
  {
   "cell_type": "code",
   "execution_count": 2,
   "metadata": {},
   "outputs": [
    {
     "data": {
      "text/html": [
       "<div>\n",
       "<style scoped>\n",
       "    .dataframe tbody tr th:only-of-type {\n",
       "        vertical-align: middle;\n",
       "    }\n",
       "\n",
       "    .dataframe tbody tr th {\n",
       "        vertical-align: top;\n",
       "    }\n",
       "\n",
       "    .dataframe thead th {\n",
       "        text-align: right;\n",
       "    }\n",
       "</style>\n",
       "<table border=\"1\" class=\"dataframe\">\n",
       "  <thead>\n",
       "    <tr style=\"text-align: right;\">\n",
       "      <th></th>\n",
       "      <th>baumid</th>\n",
       "      <th>standortnr</th>\n",
       "      <th>kennzeich</th>\n",
       "      <th>namenr</th>\n",
       "      <th>art_dtsch</th>\n",
       "      <th>art_bot</th>\n",
       "      <th>gattung_deutsch</th>\n",
       "      <th>gattung</th>\n",
       "      <th>stammumfg</th>\n",
       "      <th>bezirk</th>\n",
       "      <th>eigentuemer</th>\n",
       "      <th>pflanzjahr</th>\n",
       "      <th>standalter</th>\n",
       "      <th>kronedurch</th>\n",
       "      <th>baumhoehe</th>\n",
       "      <th>lon</th>\n",
       "      <th>lat</th>\n",
       "    </tr>\n",
       "  </thead>\n",
       "  <tbody>\n",
       "    <tr>\n",
       "      <th>235708</th>\n",
       "      <td>00008100:00154635</td>\n",
       "      <td>19</td>\n",
       "      <td>228600</td>\n",
       "      <td>Zwinglistr. 18-19</td>\n",
       "      <td>Silber-Ahorn</td>\n",
       "      <td>Acer saccharinum</td>\n",
       "      <td>AHORN</td>\n",
       "      <td>ACER</td>\n",
       "      <td>149.0</td>\n",
       "      <td>Mitte</td>\n",
       "      <td>Land Berlin</td>\n",
       "      <td>1950.0</td>\n",
       "      <td>73.0</td>\n",
       "      <td>15.0</td>\n",
       "      <td>14.0</td>\n",
       "      <td>13.329312</td>\n",
       "      <td>52.526292</td>\n",
       "    </tr>\n",
       "    <tr>\n",
       "      <th>314780</th>\n",
       "      <td>00008100:001380be</td>\n",
       "      <td>20</td>\n",
       "      <td>00481</td>\n",
       "      <td>Carl-Sonnenschein Grundschule 31.G</td>\n",
       "      <td>Hainbuche</td>\n",
       "      <td>Carpinus betulus</td>\n",
       "      <td>HAINBUCHE</td>\n",
       "      <td>CARPINUS</td>\n",
       "      <td>193.0</td>\n",
       "      <td>Tempelhof-Schöneberg</td>\n",
       "      <td>Land Berlin</td>\n",
       "      <td>1964.0</td>\n",
       "      <td>59.0</td>\n",
       "      <td>NaN</td>\n",
       "      <td>12.0</td>\n",
       "      <td>13.407388</td>\n",
       "      <td>52.443216</td>\n",
       "    </tr>\n",
       "    <tr>\n",
       "      <th>50131</th>\n",
       "      <td>00008100:000ef4f9</td>\n",
       "      <td>011415</td>\n",
       "      <td>101491</td>\n",
       "      <td>Schweizerhof Park</td>\n",
       "      <td>Buche</td>\n",
       "      <td>Fagus spec.</td>\n",
       "      <td>BUCHE</td>\n",
       "      <td>FAGUS</td>\n",
       "      <td>100.0</td>\n",
       "      <td>Steglitz-Zehlendorf</td>\n",
       "      <td>Land Berlin</td>\n",
       "      <td>NaN</td>\n",
       "      <td>NaN</td>\n",
       "      <td>NaN</td>\n",
       "      <td>NaN</td>\n",
       "      <td>13.259721</td>\n",
       "      <td>52.422273</td>\n",
       "    </tr>\n",
       "    <tr>\n",
       "      <th>256683</th>\n",
       "      <td>00008100:0028c98c</td>\n",
       "      <td>A/364</td>\n",
       "      <td>01019</td>\n",
       "      <td>Peter-Witte-Park</td>\n",
       "      <td>Süss-Kirsche,Vogel-Kirsche</td>\n",
       "      <td>Prunus avium</td>\n",
       "      <td>NaN</td>\n",
       "      <td>PRUNUS</td>\n",
       "      <td>141.0</td>\n",
       "      <td>Reinickendorf</td>\n",
       "      <td>Land Berlin</td>\n",
       "      <td>NaN</td>\n",
       "      <td>NaN</td>\n",
       "      <td>NaN</td>\n",
       "      <td>20.0</td>\n",
       "      <td>13.325103</td>\n",
       "      <td>52.587966</td>\n",
       "    </tr>\n",
       "    <tr>\n",
       "      <th>100323</th>\n",
       "      <td>00008100:001fa47b</td>\n",
       "      <td>17</td>\n",
       "      <td>28GA05</td>\n",
       "      <td>Sewanstr. / Schwimmhalle</td>\n",
       "      <td>Spätblühende Trauben-Kirsche</td>\n",
       "      <td>Prunus serotina</td>\n",
       "      <td>NaN</td>\n",
       "      <td>PRUNUS</td>\n",
       "      <td>85.0</td>\n",
       "      <td>Lichtenberg</td>\n",
       "      <td>Land Berlin</td>\n",
       "      <td>NaN</td>\n",
       "      <td>NaN</td>\n",
       "      <td>5.0</td>\n",
       "      <td>7.0</td>\n",
       "      <td>13.515136</td>\n",
       "      <td>52.495615</td>\n",
       "    </tr>\n",
       "  </tbody>\n",
       "</table>\n",
       "</div>"
      ],
      "text/plain": [
       "                   baumid standortnr kennzeich  \\\n",
       "235708  00008100:00154635         19    228600   \n",
       "314780  00008100:001380be         20     00481   \n",
       "50131   00008100:000ef4f9     011415    101491   \n",
       "256683  00008100:0028c98c      A/364     01019   \n",
       "100323  00008100:001fa47b         17    28GA05   \n",
       "\n",
       "                                    namenr                     art_dtsch  \\\n",
       "235708                   Zwinglistr. 18-19                  Silber-Ahorn   \n",
       "314780  Carl-Sonnenschein Grundschule 31.G                     Hainbuche   \n",
       "50131                    Schweizerhof Park                         Buche   \n",
       "256683                    Peter-Witte-Park    Süss-Kirsche,Vogel-Kirsche   \n",
       "100323            Sewanstr. / Schwimmhalle  Spätblühende Trauben-Kirsche   \n",
       "\n",
       "                 art_bot gattung_deutsch   gattung  stammumfg  \\\n",
       "235708  Acer saccharinum           AHORN      ACER      149.0   \n",
       "314780  Carpinus betulus       HAINBUCHE  CARPINUS      193.0   \n",
       "50131        Fagus spec.           BUCHE     FAGUS      100.0   \n",
       "256683      Prunus avium             NaN    PRUNUS      141.0   \n",
       "100323   Prunus serotina             NaN    PRUNUS       85.0   \n",
       "\n",
       "                      bezirk  eigentuemer  pflanzjahr  standalter  kronedurch  \\\n",
       "235708                 Mitte  Land Berlin      1950.0        73.0        15.0   \n",
       "314780  Tempelhof-Schöneberg  Land Berlin      1964.0        59.0         NaN   \n",
       "50131    Steglitz-Zehlendorf  Land Berlin         NaN         NaN         NaN   \n",
       "256683         Reinickendorf  Land Berlin         NaN         NaN         NaN   \n",
       "100323           Lichtenberg  Land Berlin         NaN         NaN         5.0   \n",
       "\n",
       "        baumhoehe        lon        lat  \n",
       "235708       14.0  13.329312  52.526292  \n",
       "314780       12.0  13.407388  52.443216  \n",
       "50131         NaN  13.259721  52.422273  \n",
       "256683       20.0  13.325103  52.587966  \n",
       "100323        7.0  13.515136  52.495615  "
      ]
     },
     "execution_count": 2,
     "metadata": {},
     "output_type": "execute_result"
    }
   ],
   "source": [
    "data.sample(5, random_state=42)"
   ]
  },
  {
   "cell_type": "markdown",
   "metadata": {},
   "source": [
    "### Outlier & Co\n",
    "\n",
    "Auch Outliers können wir mit Fachwissen begegnen, bevor wir robuste Transformationen anwenden."
   ]
  },
  {
   "cell_type": "markdown",
   "metadata": {},
   "source": [
    "Bäume 141 Meter dick?"
   ]
  },
  {
   "cell_type": "code",
   "execution_count": 3,
   "metadata": {},
   "outputs": [
    {
     "data": {
      "text/plain": [
       "373198    97106.0\n",
       "78518     92100.0\n",
       "292637    44425.0\n",
       "303346    28029.0\n",
       "303299    25827.0\n",
       "Name: stammumfg, dtype: float64"
      ]
     },
     "execution_count": 3,
     "metadata": {},
     "output_type": "execute_result"
    }
   ],
   "source": [
    "data[\"stammumfg\"].sort_values(ascending=False).iloc[:5]"
   ]
  },
  {
   "cell_type": "markdown",
   "metadata": {},
   "source": [
    "Annahme: 5 Meter reicht."
   ]
  },
  {
   "cell_type": "code",
   "execution_count": 4,
   "metadata": {},
   "outputs": [],
   "source": [
    "import numpy as np\n",
    "\n",
    "data.loc[data[\"stammumfg\"] > 1665, \"stammumfg\"] = np.nan"
   ]
  },
  {
   "cell_type": "markdown",
   "metadata": {},
   "source": [
    "Kronendurchmesser von 6,8 KM?"
   ]
  },
  {
   "cell_type": "code",
   "execution_count": 5,
   "metadata": {},
   "outputs": [
    {
     "data": {
      "text/plain": [
       "334466    6800.0\n",
       "172478    3600.0\n",
       "388911    3158.0\n",
       "390355    1800.0\n",
       "140705    1800.0\n",
       "Name: kronedurch, dtype: float64"
      ]
     },
     "execution_count": 5,
     "metadata": {},
     "output_type": "execute_result"
    }
   ],
   "source": [
    "data[\"kronedurch\"].sort_values(ascending=False).iloc[:5]"
   ]
  },
  {
   "cell_type": "markdown",
   "metadata": {},
   "source": [
    "70 Meter wäre schon sehr groß."
   ]
  },
  {
   "cell_type": "code",
   "execution_count": 6,
   "metadata": {},
   "outputs": [],
   "source": [
    "data.loc[data[\"kronedurch\"] > 70, \"kronedurch\"] = np.nan"
   ]
  },
  {
   "cell_type": "markdown",
   "metadata": {},
   "source": [
    "Baumhöhe von 2800 Meter?"
   ]
  },
  {
   "cell_type": "code",
   "execution_count": 7,
   "metadata": {},
   "outputs": [
    {
     "data": {
      "text/plain": [
       "176186    25700.0\n",
       "176215    25700.0\n",
       "210317    12700.0\n",
       "210022     5600.0\n",
       "100243     3000.0\n",
       "Name: baumhoehe, dtype: float64"
      ]
     },
     "execution_count": 7,
     "metadata": {},
     "output_type": "execute_result"
    }
   ],
   "source": [
    "data[\"baumhoehe\"].sort_values(ascending=False).iloc[:5]"
   ]
  },
  {
   "cell_type": "markdown",
   "metadata": {},
   "source": [
    "100 schafft auch keiner."
   ]
  },
  {
   "cell_type": "code",
   "execution_count": 8,
   "metadata": {},
   "outputs": [],
   "source": [
    "data.loc[data[\"baumhoehe\"] >= 100, \"baumhoehe\"] = np.nan"
   ]
  },
  {
   "cell_type": "markdown",
   "metadata": {},
   "source": [
    "## Bäume aus dem Jahre 0 und der Zukunft?"
   ]
  },
  {
   "cell_type": "code",
   "execution_count": 9,
   "metadata": {},
   "outputs": [
    {
     "data": {
      "text/plain": [
       "0.0"
      ]
     },
     "execution_count": 9,
     "metadata": {},
     "output_type": "execute_result"
    }
   ],
   "source": [
    "data[\"pflanzjahr\"].min()"
   ]
  },
  {
   "cell_type": "code",
   "execution_count": 10,
   "metadata": {},
   "outputs": [
    {
     "data": {
      "text/plain": [
       "88888888888.0"
      ]
     },
     "execution_count": 10,
     "metadata": {},
     "output_type": "execute_result"
    }
   ],
   "source": [
    "data[\"pflanzjahr\"].max()"
   ]
  },
  {
   "cell_type": "code",
   "execution_count": 11,
   "metadata": {},
   "outputs": [
    {
     "data": {
      "text/plain": [
       "61"
      ]
     },
     "execution_count": 11,
     "metadata": {},
     "output_type": "execute_result"
    }
   ],
   "source": [
    "len(data[(data[\"pflanzjahr\"] < 1400) | (data[\"pflanzjahr\"] > 2023)])"
   ]
  },
  {
   "cell_type": "code",
   "execution_count": 12,
   "metadata": {},
   "outputs": [],
   "source": [
    "data.loc[(data[\"pflanzjahr\"] < 1400) | (data[\"pflanzjahr\"] > 2023), \"pflanzjahr\"] = np.nan"
   ]
  },
  {
   "cell_type": "markdown",
   "metadata": {},
   "source": [
    "## Feature Engineering"
   ]
  },
  {
   "cell_type": "markdown",
   "metadata": {},
   "source": [
    "### Features ausschließen?\n",
    "\n",
    "Mit fachlichen Wissen können wir Features ausschließen ❌ oder beibehalten ✅, unabhängig von der detaillierten Untersuchung der Werte. Insbesondere wollen wir nicht keine (zusammengesetzen) IDs für Einzelwerte dabei haben.\n",
    "\n",
    "\n",
    "- ❌ `baumid`: Wenn auch nicht perfekt eindeutig, hier ist das Ziel ganz klar einzelne Bäume zu identifizieren.\n",
    "- ❌ `standortnr`: Lt. Datenbeschreibung die ID auf bezirklicher Ebene. Zusammen mit dem Bezirk lässt sich wieder auf den einzelnen Baum schließen!\n",
    "- ❌ `standalter`: Scheint berechnet zu sein, daher duplizierte Info!\n",
    "\n",
    "- ✅ `kennzeich`: Lt. Datenbeschreibung die bezirkliche Nummer des zugeordneten Pflegeobjektes. Ein Pflegeobjekt kann viele Bäume haben, nur bei geringen Anzahlen gilt Acht!\n",
    "- ✅ `namenr`: Hier gilt Gleiches wie bei `kennzeich`, bloß dass es sich um den Namen und nicht die Nummer handelt."
   ]
  },
  {
   "cell_type": "code",
   "execution_count": 13,
   "metadata": {},
   "outputs": [],
   "source": [
    "del data[\"baumid\"]\n",
    "del data[\"standortnr\"]\n",
    "del data[\"standalter\"]"
   ]
  },
  {
   "cell_type": "markdown",
   "metadata": {},
   "source": [
    "### Feature aus der `namenr` berechnen?"
   ]
  },
  {
   "cell_type": "code",
   "execution_count": 14,
   "metadata": {},
   "outputs": [
    {
     "data": {
      "text/plain": [
       "CategoricalIndex(['Fernsehturmanlage zw. Fernsehturm u. Spandauer Str.',\n",
       "                  'Urnenhain', 'Hatzfeldtallee 19+31 (Sport)',\n",
       "                  'Ortelsburgpark', 'Stolzenfelsstr. / entlang der Reichsbahn',\n",
       "                  'Grünanlage Cleantech-Business-Park II', 'Rheinsteinpark',\n",
       "                  'Langhoffstr. 2 -26/ Murtzaner Ring 34-68',\n",
       "                  'Gemeindepark Lankwitz - Teil 1/2', 'Lietzenseepark/Süd',\n",
       "                  'Gutspark am Loeperplatz / Möllendorfsstr. 34-39',\n",
       "                  'Im Fischgrund, \"Rosenanger\"', 'Marx-Engels-Forum',\n",
       "                  'Brusebergstr., Grünzug Lärchenkamp',\n",
       "                  'Altenhofer Dreieck / GA', 'Schloßpark Lichterfelde',\n",
       "                  'Jochen-Klepper-Weg WG - Teil 1/2', 'Harbigstr. 40',\n",
       "                  'Havelpromenade- Süd', 'Schönagelstraße/ Blumberger Damm',\n",
       "                  'Friedhof-Staaken', 'Monbijou Park',\n",
       "                  'Hahneberg-GA Hänge und Weiden',\n",
       "                  'Lauterbach-Grundschule (33. G)',\n",
       "                  'John-F.-Kennedy-Schule F + SP',\n",
       "                  'Albert-Einstein-Oberschule / Filiale Alfred-Nobel-Sekundarschule',\n",
       "                  'Matthias-Claudius-Grundschule', 'Haveldüne',\n",
       "                  'Stade de Napoleon', 'Niederneuendorfer Allee- Buskehre',\n",
       "                  'Hofzeichendamm, südlich',\n",
       "                  'Elisabethstraße an d. Gleisschleife, Weg',\n",
       "                  'Neubrücker Str./Am Eichenhain, R.A.B.',\n",
       "                  'Barther Pfuhl / Grünanlage', 'Osloer Str. 42',\n",
       "                  'Campus-Hannah-Höch Gemeinschaftsschule ',\n",
       "                  'Maselakepark Havelwiesen', 'Buntspechtstr./Nußhäherstr.',\n",
       "                  'Gartenarbeitsschule', 'Hospitalgraben WG',\n",
       "                  'Möllersfelde III', 'Walter-Gropius-Sekundarschule',\n",
       "                  'Waldfriedhof Grünau / Rabindranath-Tagore-Straße 18-20 Gr FH',\n",
       "                  'Blankenburger Pflasterweg 9', 'Freifläche an der U-Bahn',\n",
       "                  'Quartierspark Randowstr. 11-13 / Grünanl',\n",
       "                  'Rathaus Lankwitz WG', 'Gartenarbeitsschule Hakenfelde',\n",
       "                  'Friedhof Kaulsdorf', 'Vorarlberg'],\n",
       "                 categories=['\" Helleum \"Kinderforscherzentrum', '\"Am Volkspark PB\" - Randgrün', '\"Bornholm I\" - Randgrün', '\"Gravensteiner Aue\" - Randgrün', ..., 'Öffentliche Parkanlage B1/B5', 'Öst.der Wuhle KNII', 'Östlich der Wuhle KN I', 'östl. Heinersdorfer Str.'], ordered=False, dtype='category', name='namenr')"
      ]
     },
     "execution_count": 14,
     "metadata": {},
     "output_type": "execute_result"
    }
   ],
   "source": [
    "data[\"namenr\"].value_counts().index[350:400]"
   ]
  },
  {
   "cell_type": "code",
   "execution_count": 15,
   "metadata": {},
   "outputs": [
    {
     "data": {
      "text/plain": [
       "4688"
      ]
     },
     "execution_count": 15,
     "metadata": {},
     "output_type": "execute_result"
    }
   ],
   "source": [
    "data[\"namenr\"].nunique()"
   ]
  },
  {
   "cell_type": "markdown",
   "metadata": {},
   "source": [
    "Regex ersetzt Zahlen (arabische wie römische) und +- zwischen den Zahlen."
   ]
  },
  {
   "cell_type": "code",
   "execution_count": 16,
   "metadata": {},
   "outputs": [],
   "source": [
    "import re\n",
    "\n",
    "data[\"namenr_nonum\"] = data[\"namenr\"].apply(\n",
    "    lambda key: re.sub(r\"\\d+(-\\d+)?|\\b[IVXLCDM]+\\b\", \"\", key).strip()\n",
    ")"
   ]
  },
  {
   "cell_type": "code",
   "execution_count": 17,
   "metadata": {},
   "outputs": [
    {
     "data": {
      "text/plain": [
       "4407"
      ]
     },
     "execution_count": 17,
     "metadata": {},
     "output_type": "execute_result"
    }
   ],
   "source": [
    "data[\"namenr_nonum\"].nunique()"
   ]
  },
  {
   "cell_type": "code",
   "execution_count": 18,
   "metadata": {},
   "outputs": [
    {
     "data": {
      "text/plain": [
       "Index(['Friedhof Wannsee - /', 'Havelchaussee  - Stößenseebrücke - GA',\n",
       "       'Harbigstr.', 'Hatzfeldtallee + (Sport)',\n",
       "       'Stolzenfelsstr. / entlang der Reichsbahn', 'Ortelsburgpark',\n",
       "       'Grünanlage Cleantech-Business-Park', 'Langhoffstr.  -/ Murtzaner Ring',\n",
       "       'Rheinsteinpark', 'Bahnhofstr.', 'Lietzenseepark/Süd',\n",
       "       'Im Fischgrund, \"Rosenanger\"',\n",
       "       'Gutspark am Loeperplatz / Möllendorfsstr.', 'Marx-Engels-Forum',\n",
       "       'Kleistgrab WG - Teil /', 'Brusebergstr., Grünzug Lärchenkamp',\n",
       "       'Altenhofer Dreieck / GA', 'Schloßpark Lichterfelde',\n",
       "       'Schönagelstraße/ Blumberger Damm', 'Havelpromenade- Süd',\n",
       "       'Hahneberg-GA Hänge und Weiden', 'Monbijou Park', 'Friedhof-Staaken',\n",
       "       'John-F.-Kennedy-Schule F + SP', 'Lauterbach-Grundschule (. G)',\n",
       "       'Albert-Einstein-Oberschule / Filiale Alfred-Nobel-Sekundarschule',\n",
       "       'Bremer Str.', 'Matthias-Claudius-Grundschule',\n",
       "       'Niederneuendorfer Allee- Buskehre', 'Stade de Napoleon', 'Haveldüne',\n",
       "       'Hofzeichendamm, südlich', 'Elisabethstraße an d. Gleisschleife, Weg',\n",
       "       'Neubrücker Str./Am Eichenhain, R.A.B.', 'Barther Pfuhl / Grünanlage',\n",
       "       'Osloer Str.', 'Campus-Hannah-Höch Gemeinschaftsschule',\n",
       "       'Maselakepark Havelwiesen', 'Gartenarbeitsschule',\n",
       "       'Buntspechtstr./Nußhäherstr.', 'Hospitalgraben WG',\n",
       "       'Park am Buschkrug-Spielplatz', 'Möllersfelde',\n",
       "       'Walter-Gropius-Sekundarschule',\n",
       "       'Doberaner Str.  / Fil. Grüner Campus Malchow',\n",
       "       'Blankenburger Pflasterweg', 'Freifläche an der U-Bahn',\n",
       "       'Waldfriedhof Grünau / Rabindranath-Tagore-Straße  Gr FH',\n",
       "       'Quartierspark Randowstr.  / Grünanl', 'Rathaus Lankwitz WG'],\n",
       "      dtype='object', name='namenr_nonum')"
      ]
     },
     "execution_count": 18,
     "metadata": {},
     "output_type": "execute_result"
    }
   ],
   "source": [
    "data[\"namenr_nonum\"].value_counts().index[350:400]"
   ]
  },
  {
   "cell_type": "markdown",
   "metadata": {},
   "source": [
    "### Georaster"
   ]
  },
  {
   "cell_type": "code",
   "execution_count": 21,
   "metadata": {},
   "outputs": [
    {
     "data": {
      "text/plain": [
       "326205    13.432796\n",
       "281751    13.157988\n",
       "188000    13.471386\n",
       "69180     13.362830\n",
       "382135    13.571441\n",
       "Name: lon, dtype: float64"
      ]
     },
     "execution_count": 21,
     "metadata": {},
     "output_type": "execute_result"
    }
   ],
   "source": [
    "data[\"lon\"].sample(5)"
   ]
  },
  {
   "cell_type": "code",
   "execution_count": 22,
   "metadata": {},
   "outputs": [],
   "source": [
    "data[\"lon_section\"] = data[\"lon\"].round(1).astype(\"category\")\n",
    "data[\"lat_section\"] = data[\"lat\"].round(1).astype(\"category\")"
   ]
  },
  {
   "cell_type": "code",
   "execution_count": 24,
   "metadata": {},
   "outputs": [
    {
     "data": {
      "text/plain": [
       "Index([13.1, 13.2, 13.3, 13.4, 13.5, 13.6, 13.7], dtype='float64')"
      ]
     },
     "execution_count": 24,
     "metadata": {},
     "output_type": "execute_result"
    }
   ],
   "source": [
    "data[\"lon_section\"].cat.categories"
   ]
  },
  {
   "cell_type": "markdown",
   "metadata": {},
   "source": [
    "### Ratios\n",
    "\n",
    "2 neue Features: Baumhöhe zum Kronendurchmesser und Baumhöhe zum Stammumfang."
   ]
  },
  {
   "cell_type": "code",
   "execution_count": 25,
   "metadata": {},
   "outputs": [],
   "source": [
    "data[\"hoehe_zu_krone\"] = data[\"baumhoehe\"] / data[\"kronedurch\"].replace(0, np.nan)\n",
    "data[\"hoehe_zu_stamm\"] = data[\"baumhoehe\"] / data[\"stammumfg\"].replace(0, np.nan)"
   ]
  },
  {
   "cell_type": "markdown",
   "metadata": {},
   "source": [
    "### Baumart - Laubbaum oder Nadelbaum?\n",
    "\n",
    "Mapping Tabelle mit ChatGPT & Google erstellt."
   ]
  },
  {
   "cell_type": "code",
   "execution_count": 26,
   "metadata": {},
   "outputs": [],
   "source": [
    "data[\"gattung\"] = data[\"gattung\"].cat.rename_categories({\"Abies\": \"ABIES\"})"
   ]
  },
  {
   "cell_type": "code",
   "execution_count": 27,
   "metadata": {},
   "outputs": [
    {
     "data": {
      "text/html": [
       "<div>\n",
       "<style scoped>\n",
       "    .dataframe tbody tr th:only-of-type {\n",
       "        vertical-align: middle;\n",
       "    }\n",
       "\n",
       "    .dataframe tbody tr th {\n",
       "        vertical-align: top;\n",
       "    }\n",
       "\n",
       "    .dataframe thead th {\n",
       "        text-align: right;\n",
       "    }\n",
       "</style>\n",
       "<table border=\"1\" class=\"dataframe\">\n",
       "  <thead>\n",
       "    <tr style=\"text-align: right;\">\n",
       "      <th></th>\n",
       "      <th>gattung</th>\n",
       "      <th>baumart</th>\n",
       "    </tr>\n",
       "  </thead>\n",
       "  <tbody>\n",
       "    <tr>\n",
       "      <th>0</th>\n",
       "      <td>ABIES</td>\n",
       "      <td>Nadelbaum</td>\n",
       "    </tr>\n",
       "    <tr>\n",
       "      <th>1</th>\n",
       "      <td>ACER</td>\n",
       "      <td>Laubbaum</td>\n",
       "    </tr>\n",
       "    <tr>\n",
       "      <th>2</th>\n",
       "      <td>AESCULUS</td>\n",
       "      <td>Laubbaum</td>\n",
       "    </tr>\n",
       "    <tr>\n",
       "      <th>3</th>\n",
       "      <td>AILANTHUS</td>\n",
       "      <td>Laubbaum</td>\n",
       "    </tr>\n",
       "    <tr>\n",
       "      <th>4</th>\n",
       "      <td>ALNUS</td>\n",
       "      <td>Laubbaum</td>\n",
       "    </tr>\n",
       "    <tr>\n",
       "      <th>...</th>\n",
       "      <td>...</td>\n",
       "      <td>...</td>\n",
       "    </tr>\n",
       "    <tr>\n",
       "      <th>93</th>\n",
       "      <td>TSUGA</td>\n",
       "      <td>Nadelbaum</td>\n",
       "    </tr>\n",
       "    <tr>\n",
       "      <th>94</th>\n",
       "      <td>ULMUS</td>\n",
       "      <td>Laubbaum</td>\n",
       "    </tr>\n",
       "    <tr>\n",
       "      <th>95</th>\n",
       "      <td>UNBEKANNT</td>\n",
       "      <td>UNBEKANNT</td>\n",
       "    </tr>\n",
       "    <tr>\n",
       "      <th>96</th>\n",
       "      <td>WISTERIA</td>\n",
       "      <td>Laubbaum</td>\n",
       "    </tr>\n",
       "    <tr>\n",
       "      <th>97</th>\n",
       "      <td>ZELKOVA</td>\n",
       "      <td>Laubbaum</td>\n",
       "    </tr>\n",
       "  </tbody>\n",
       "</table>\n",
       "<p>98 rows × 2 columns</p>\n",
       "</div>"
      ],
      "text/plain": [
       "      gattung    baumart\n",
       "0       ABIES  Nadelbaum\n",
       "1        ACER   Laubbaum\n",
       "2    AESCULUS   Laubbaum\n",
       "3   AILANTHUS   Laubbaum\n",
       "4       ALNUS   Laubbaum\n",
       "..        ...        ...\n",
       "93      TSUGA  Nadelbaum\n",
       "94      ULMUS   Laubbaum\n",
       "95  UNBEKANNT  UNBEKANNT\n",
       "96   WISTERIA   Laubbaum\n",
       "97    ZELKOVA   Laubbaum\n",
       "\n",
       "[98 rows x 2 columns]"
      ]
     },
     "execution_count": 27,
     "metadata": {},
     "output_type": "execute_result"
    }
   ],
   "source": [
    "import pandas as pd\n",
    "\n",
    "genus_cat_mapping = pd.read_parquet(\"../data/berlin_genus_category_mapping.parquet\")\n",
    "genus_cat_mapping"
   ]
  },
  {
   "cell_type": "code",
   "execution_count": 28,
   "metadata": {},
   "outputs": [],
   "source": [
    "data = data.merge(genus_cat_mapping, on=\"gattung\", how=\"left\")"
   ]
  },
  {
   "cell_type": "code",
   "execution_count": 29,
   "metadata": {},
   "outputs": [
    {
     "data": {
      "text/plain": [
       "gattung_deutsch  baumart  \n",
       "AHORN            Laubbaum     103851\n",
       "EICHE            Laubbaum      50781\n",
       "LINDE            Laubbaum      38056\n",
       "ROBINIE          Laubbaum      23080\n",
       "HAINBUCHE        Laubbaum      20894\n",
       "BIRKE            Laubbaum      20712\n",
       "PAPPEL           Laubbaum      17905\n",
       "KIEFER           Nadelbaum     17359\n",
       "BUCHE            Laubbaum      14130\n",
       "ESCHE            Laubbaum      11536\n",
       "Name: count, dtype: int64"
      ]
     },
     "execution_count": 29,
     "metadata": {},
     "output_type": "execute_result"
    }
   ],
   "source": [
    "data[[\"gattung_deutsch\", \"baumart\"]].value_counts()[:10]"
   ]
  },
  {
   "cell_type": "code",
   "execution_count": 30,
   "metadata": {},
   "outputs": [],
   "source": [
    "data[\"gattung_deutsch\"] = data[\"gattung_deutsch\"].cat.add_categories([\"unknown\"])\n",
    "data[\"gattung_deutsch\"] = data[\"gattung_deutsch\"].fillna(\"unknown\")"
   ]
  },
  {
   "cell_type": "markdown",
   "metadata": {},
   "source": [
    "### Flag für infrequente Kategorien (< 1000 Member)"
   ]
  },
  {
   "cell_type": "code",
   "execution_count": 31,
   "metadata": {},
   "outputs": [],
   "source": [
    "replacement_cols = [\"art_dtsch\", \"art_bot\", \"gattung_deutsch\", \"gattung\"]\n",
    "\n",
    "threshold = 1000\n",
    "\n",
    "for col in replacement_cols:\n",
    "    data[col + \"_infrequent\"] = data[col].map(data[col].value_counts() < threshold)"
   ]
  },
  {
   "cell_type": "code",
   "execution_count": 32,
   "metadata": {},
   "outputs": [
    {
     "data": {
      "text/html": [
       "<div>\n",
       "<style scoped>\n",
       "    .dataframe tbody tr th:only-of-type {\n",
       "        vertical-align: middle;\n",
       "    }\n",
       "\n",
       "    .dataframe tbody tr th {\n",
       "        vertical-align: top;\n",
       "    }\n",
       "\n",
       "    .dataframe thead th {\n",
       "        text-align: right;\n",
       "    }\n",
       "</style>\n",
       "<table border=\"1\" class=\"dataframe\">\n",
       "  <thead>\n",
       "    <tr style=\"text-align: right;\">\n",
       "      <th></th>\n",
       "      <th>art_dtsch_infrequent</th>\n",
       "      <th>art_bot_infrequent</th>\n",
       "      <th>gattung_deutsch_infrequent</th>\n",
       "      <th>gattung_infrequent</th>\n",
       "    </tr>\n",
       "  </thead>\n",
       "  <tbody>\n",
       "    <tr>\n",
       "      <th>235708</th>\n",
       "      <td>False</td>\n",
       "      <td>False</td>\n",
       "      <td>False</td>\n",
       "      <td>False</td>\n",
       "    </tr>\n",
       "    <tr>\n",
       "      <th>314780</th>\n",
       "      <td>False</td>\n",
       "      <td>False</td>\n",
       "      <td>False</td>\n",
       "      <td>False</td>\n",
       "    </tr>\n",
       "    <tr>\n",
       "      <th>50131</th>\n",
       "      <td>False</td>\n",
       "      <td>False</td>\n",
       "      <td>False</td>\n",
       "      <td>False</td>\n",
       "    </tr>\n",
       "    <tr>\n",
       "      <th>256683</th>\n",
       "      <td>False</td>\n",
       "      <td>False</td>\n",
       "      <td>False</td>\n",
       "      <td>False</td>\n",
       "    </tr>\n",
       "    <tr>\n",
       "      <th>100323</th>\n",
       "      <td>True</td>\n",
       "      <td>True</td>\n",
       "      <td>False</td>\n",
       "      <td>False</td>\n",
       "    </tr>\n",
       "  </tbody>\n",
       "</table>\n",
       "</div>"
      ],
      "text/plain": [
       "       art_dtsch_infrequent art_bot_infrequent  gattung_deutsch_infrequent  \\\n",
       "235708                False              False                       False   \n",
       "314780                False              False                       False   \n",
       "50131                 False              False                       False   \n",
       "256683                False              False                       False   \n",
       "100323                 True               True                       False   \n",
       "\n",
       "       gattung_infrequent  \n",
       "235708              False  \n",
       "314780              False  \n",
       "50131               False  \n",
       "256683              False  \n",
       "100323              False  "
      ]
     },
     "execution_count": 32,
     "metadata": {},
     "output_type": "execute_result"
    }
   ],
   "source": [
    "data[[col + \"_infrequent\" for col in replacement_cols]].sample(5, random_state=42)"
   ]
  },
  {
   "cell_type": "markdown",
   "metadata": {},
   "source": [
    "## Labeled & unlabeled data\n",
    "Es fehlen viele Datenpunkte für \"Pflanzjahr\", wir teilen das Datenset entlang dieses Merkmals."
   ]
  },
  {
   "cell_type": "code",
   "execution_count": 33,
   "metadata": {},
   "outputs": [
    {
     "data": {
      "text/plain": [
       "141725"
      ]
     },
     "execution_count": 33,
     "metadata": {},
     "output_type": "execute_result"
    }
   ],
   "source": [
    "unlabeled = data[data[\"pflanzjahr\"].isna()].copy()\n",
    "len(unlabeled)"
   ]
  },
  {
   "cell_type": "code",
   "execution_count": 34,
   "metadata": {},
   "outputs": [
    {
     "data": {
      "text/plain": [
       "275391"
      ]
     },
     "execution_count": 34,
     "metadata": {},
     "output_type": "execute_result"
    }
   ],
   "source": [
    "labeled = data[data[\"pflanzjahr\"].notna()]\n",
    "len(labeled)"
   ]
  },
  {
   "cell_type": "markdown",
   "metadata": {},
   "source": [
    "## Rare Kategorien ersetzen\n",
    "\n",
    "Erst möglich nach dem Split!"
   ]
  },
  {
   "cell_type": "code",
   "execution_count": 35,
   "metadata": {},
   "outputs": [
    {
     "name": "stdout",
     "output_type": "stream",
     "text": [
      "In 'art_dtsch' werden 455 seltene Kategorien ersetzt!\n",
      "In 'art_bot' werden 484 seltene Kategorien ersetzt!\n",
      "In 'gattung_deutsch' werden 29 seltene Kategorien ersetzt!\n",
      "In 'gattung' werden 31 seltene Kategorien ersetzt!\n",
      "In 'kennzeich' werden 2467 seltene Kategorien ersetzt!\n",
      "In 'namenr' werden 2779 seltene Kategorien ersetzt!\n"
     ]
    }
   ],
   "source": [
    "labeled = labeled.copy()\n",
    "minimum_count_threshold = 20\n",
    "\n",
    "cat_cols = [\"bezirk\", \"art_dtsch\", \"art_bot\", \"gattung_deutsch\", \"gattung\", \"kennzeich\", \"namenr\"]\n",
    "\n",
    "for cat_col in cat_cols:\n",
    "    counts = labeled[cat_col].value_counts()\n",
    "    rare = counts[counts < minimum_count_threshold].index.to_list()\n",
    "\n",
    "    if len(rare) > 0:\n",
    "        print(f\"In '{cat_col}' werden {len(rare)} seltene Kategorien ersetzt!\")\n",
    "        labeled[cat_col] = labeled[cat_col].astype(\"object\")\n",
    "        labeled.loc[labeled.query(f\"{cat_col} == @rare\").index, cat_col] = \"rare\"\n",
    "        labeled[cat_col] = labeled[cat_col].astype(\"category\")\n",
    "        labeled[cat_col] = labeled[cat_col].cat.remove_unused_categories()"
   ]
  },
  {
   "cell_type": "markdown",
   "metadata": {},
   "source": [
    "## Trainings- und Testdaten"
   ]
  },
  {
   "cell_type": "code",
   "execution_count": 37,
   "metadata": {},
   "outputs": [],
   "source": [
    "from sklearn.model_selection import train_test_split\n",
    "\n",
    "y = \"pflanzjahr\"\n",
    "X = labeled.columns.to_list()\n",
    "X.remove(y)\n",
    "train_data, test_data = train_test_split(\n",
    "    labeled,\n",
    "    test_size=0.2,\n",
    "    random_state=42,\n",
    "    stratify=labeled[\"gattung_deutsch\"],\n",
    ")"
   ]
  },
  {
   "cell_type": "markdown",
   "metadata": {},
   "source": [
    "## Pipeline Design & Modellauswahl"
   ]
  },
  {
   "cell_type": "code",
   "execution_count": 38,
   "metadata": {},
   "outputs": [],
   "source": [
    "num_features = [\"kronedurch\", \"stammumfg\", \"baumhoehe\", \"hoehe_zu_krone\", \"hoehe_zu_stamm\"]"
   ]
  },
  {
   "cell_type": "markdown",
   "metadata": {},
   "source": [
    "### Versuch 1: Simple Linear Regression"
   ]
  },
  {
   "cell_type": "code",
   "execution_count": 39,
   "metadata": {},
   "outputs": [],
   "source": [
    "from sklearn.compose import ColumnTransformer\n",
    "from sklearn.impute import SimpleImputer\n",
    "\n",
    "ct_1 = ColumnTransformer(\n",
    "    transformers=[\n",
    "        (\"imp\", SimpleImputer(), num_features),\n",
    "    ],\n",
    ")"
   ]
  },
  {
   "cell_type": "code",
   "execution_count": 40,
   "metadata": {},
   "outputs": [],
   "source": [
    "from sklearn.linear_model import LinearRegression\n",
    "\n",
    "est_1 = LinearRegression()"
   ]
  },
  {
   "cell_type": "code",
   "execution_count": 41,
   "metadata": {},
   "outputs": [],
   "source": [
    "from sklearn.pipeline import Pipeline\n",
    "from sklearn.preprocessing import StandardScaler\n",
    "\n",
    "pipeline_1 = Pipeline(steps=[(\"ct1\", ct_1), (\"scale\", StandardScaler()), (\"model_linreg\", est_1)])"
   ]
  },
  {
   "cell_type": "code",
   "execution_count": 42,
   "metadata": {},
   "outputs": [
    {
     "data": {
      "text/html": [
       "<style>#sk-container-id-1 {color: black;}#sk-container-id-1 pre{padding: 0;}#sk-container-id-1 div.sk-toggleable {background-color: white;}#sk-container-id-1 label.sk-toggleable__label {cursor: pointer;display: block;width: 100%;margin-bottom: 0;padding: 0.3em;box-sizing: border-box;text-align: center;}#sk-container-id-1 label.sk-toggleable__label-arrow:before {content: \"▸\";float: left;margin-right: 0.25em;color: #696969;}#sk-container-id-1 label.sk-toggleable__label-arrow:hover:before {color: black;}#sk-container-id-1 div.sk-estimator:hover label.sk-toggleable__label-arrow:before {color: black;}#sk-container-id-1 div.sk-toggleable__content {max-height: 0;max-width: 0;overflow: hidden;text-align: left;background-color: #f0f8ff;}#sk-container-id-1 div.sk-toggleable__content pre {margin: 0.2em;color: black;border-radius: 0.25em;background-color: #f0f8ff;}#sk-container-id-1 input.sk-toggleable__control:checked~div.sk-toggleable__content {max-height: 200px;max-width: 100%;overflow: auto;}#sk-container-id-1 input.sk-toggleable__control:checked~label.sk-toggleable__label-arrow:before {content: \"▾\";}#sk-container-id-1 div.sk-estimator input.sk-toggleable__control:checked~label.sk-toggleable__label {background-color: #d4ebff;}#sk-container-id-1 div.sk-label input.sk-toggleable__control:checked~label.sk-toggleable__label {background-color: #d4ebff;}#sk-container-id-1 input.sk-hidden--visually {border: 0;clip: rect(1px 1px 1px 1px);clip: rect(1px, 1px, 1px, 1px);height: 1px;margin: -1px;overflow: hidden;padding: 0;position: absolute;width: 1px;}#sk-container-id-1 div.sk-estimator {font-family: monospace;background-color: #f0f8ff;border: 1px dotted black;border-radius: 0.25em;box-sizing: border-box;margin-bottom: 0.5em;}#sk-container-id-1 div.sk-estimator:hover {background-color: #d4ebff;}#sk-container-id-1 div.sk-parallel-item::after {content: \"\";width: 100%;border-bottom: 1px solid gray;flex-grow: 1;}#sk-container-id-1 div.sk-label:hover label.sk-toggleable__label {background-color: #d4ebff;}#sk-container-id-1 div.sk-serial::before {content: \"\";position: absolute;border-left: 1px solid gray;box-sizing: border-box;top: 0;bottom: 0;left: 50%;z-index: 0;}#sk-container-id-1 div.sk-serial {display: flex;flex-direction: column;align-items: center;background-color: white;padding-right: 0.2em;padding-left: 0.2em;position: relative;}#sk-container-id-1 div.sk-item {position: relative;z-index: 1;}#sk-container-id-1 div.sk-parallel {display: flex;align-items: stretch;justify-content: center;background-color: white;position: relative;}#sk-container-id-1 div.sk-item::before, #sk-container-id-1 div.sk-parallel-item::before {content: \"\";position: absolute;border-left: 1px solid gray;box-sizing: border-box;top: 0;bottom: 0;left: 50%;z-index: -1;}#sk-container-id-1 div.sk-parallel-item {display: flex;flex-direction: column;z-index: 1;position: relative;background-color: white;}#sk-container-id-1 div.sk-parallel-item:first-child::after {align-self: flex-end;width: 50%;}#sk-container-id-1 div.sk-parallel-item:last-child::after {align-self: flex-start;width: 50%;}#sk-container-id-1 div.sk-parallel-item:only-child::after {width: 0;}#sk-container-id-1 div.sk-dashed-wrapped {border: 1px dashed gray;margin: 0 0.4em 0.5em 0.4em;box-sizing: border-box;padding-bottom: 0.4em;background-color: white;}#sk-container-id-1 div.sk-label label {font-family: monospace;font-weight: bold;display: inline-block;line-height: 1.2em;}#sk-container-id-1 div.sk-label-container {text-align: center;}#sk-container-id-1 div.sk-container {/* jupyter's `normalize.less` sets `[hidden] { display: none; }` but bootstrap.min.css set `[hidden] { display: none !important; }` so we also need the `!important` here to be able to override the default hidden behavior on the sphinx rendered scikit-learn.org. See: https://github.com/scikit-learn/scikit-learn/issues/21755 */display: inline-block !important;position: relative;}#sk-container-id-1 div.sk-text-repr-fallback {display: none;}</style><div id=\"sk-container-id-1\" class=\"sk-top-container\"><div class=\"sk-text-repr-fallback\"><pre>Pipeline(steps=[(&#x27;ct1&#x27;,\n",
       "                 ColumnTransformer(transformers=[(&#x27;imp&#x27;, SimpleImputer(),\n",
       "                                                  [&#x27;kronedurch&#x27;, &#x27;stammumfg&#x27;,\n",
       "                                                   &#x27;baumhoehe&#x27;,\n",
       "                                                   &#x27;hoehe_zu_krone&#x27;,\n",
       "                                                   &#x27;hoehe_zu_stamm&#x27;])])),\n",
       "                (&#x27;scale&#x27;, StandardScaler()),\n",
       "                (&#x27;model_linreg&#x27;, LinearRegression())])</pre><b>In a Jupyter environment, please rerun this cell to show the HTML representation or trust the notebook. <br />On GitHub, the HTML representation is unable to render, please try loading this page with nbviewer.org.</b></div><div class=\"sk-container\" hidden><div class=\"sk-item sk-dashed-wrapped\"><div class=\"sk-label-container\"><div class=\"sk-label sk-toggleable\"><input class=\"sk-toggleable__control sk-hidden--visually\" id=\"sk-estimator-id-1\" type=\"checkbox\" ><label for=\"sk-estimator-id-1\" class=\"sk-toggleable__label sk-toggleable__label-arrow\">Pipeline</label><div class=\"sk-toggleable__content\"><pre>Pipeline(steps=[(&#x27;ct1&#x27;,\n",
       "                 ColumnTransformer(transformers=[(&#x27;imp&#x27;, SimpleImputer(),\n",
       "                                                  [&#x27;kronedurch&#x27;, &#x27;stammumfg&#x27;,\n",
       "                                                   &#x27;baumhoehe&#x27;,\n",
       "                                                   &#x27;hoehe_zu_krone&#x27;,\n",
       "                                                   &#x27;hoehe_zu_stamm&#x27;])])),\n",
       "                (&#x27;scale&#x27;, StandardScaler()),\n",
       "                (&#x27;model_linreg&#x27;, LinearRegression())])</pre></div></div></div><div class=\"sk-serial\"><div class=\"sk-item sk-dashed-wrapped\"><div class=\"sk-label-container\"><div class=\"sk-label sk-toggleable\"><input class=\"sk-toggleable__control sk-hidden--visually\" id=\"sk-estimator-id-2\" type=\"checkbox\" ><label for=\"sk-estimator-id-2\" class=\"sk-toggleable__label sk-toggleable__label-arrow\">ct1: ColumnTransformer</label><div class=\"sk-toggleable__content\"><pre>ColumnTransformer(transformers=[(&#x27;imp&#x27;, SimpleImputer(),\n",
       "                                 [&#x27;kronedurch&#x27;, &#x27;stammumfg&#x27;, &#x27;baumhoehe&#x27;,\n",
       "                                  &#x27;hoehe_zu_krone&#x27;, &#x27;hoehe_zu_stamm&#x27;])])</pre></div></div></div><div class=\"sk-parallel\"><div class=\"sk-parallel-item\"><div class=\"sk-item\"><div class=\"sk-label-container\"><div class=\"sk-label sk-toggleable\"><input class=\"sk-toggleable__control sk-hidden--visually\" id=\"sk-estimator-id-3\" type=\"checkbox\" ><label for=\"sk-estimator-id-3\" class=\"sk-toggleable__label sk-toggleable__label-arrow\">imp</label><div class=\"sk-toggleable__content\"><pre>[&#x27;kronedurch&#x27;, &#x27;stammumfg&#x27;, &#x27;baumhoehe&#x27;, &#x27;hoehe_zu_krone&#x27;, &#x27;hoehe_zu_stamm&#x27;]</pre></div></div></div><div class=\"sk-serial\"><div class=\"sk-item\"><div class=\"sk-estimator sk-toggleable\"><input class=\"sk-toggleable__control sk-hidden--visually\" id=\"sk-estimator-id-4\" type=\"checkbox\" ><label for=\"sk-estimator-id-4\" class=\"sk-toggleable__label sk-toggleable__label-arrow\">SimpleImputer</label><div class=\"sk-toggleable__content\"><pre>SimpleImputer()</pre></div></div></div></div></div></div></div></div><div class=\"sk-item\"><div class=\"sk-estimator sk-toggleable\"><input class=\"sk-toggleable__control sk-hidden--visually\" id=\"sk-estimator-id-5\" type=\"checkbox\" ><label for=\"sk-estimator-id-5\" class=\"sk-toggleable__label sk-toggleable__label-arrow\">StandardScaler</label><div class=\"sk-toggleable__content\"><pre>StandardScaler()</pre></div></div></div><div class=\"sk-item\"><div class=\"sk-estimator sk-toggleable\"><input class=\"sk-toggleable__control sk-hidden--visually\" id=\"sk-estimator-id-6\" type=\"checkbox\" ><label for=\"sk-estimator-id-6\" class=\"sk-toggleable__label sk-toggleable__label-arrow\">LinearRegression</label><div class=\"sk-toggleable__content\"><pre>LinearRegression()</pre></div></div></div></div></div></div></div>"
      ],
      "text/plain": [
       "Pipeline(steps=[('ct1',\n",
       "                 ColumnTransformer(transformers=[('imp', SimpleImputer(),\n",
       "                                                  ['kronedurch', 'stammumfg',\n",
       "                                                   'baumhoehe',\n",
       "                                                   'hoehe_zu_krone',\n",
       "                                                   'hoehe_zu_stamm'])])),\n",
       "                ('scale', StandardScaler()),\n",
       "                ('model_linreg', LinearRegression())])"
      ]
     },
     "execution_count": 42,
     "metadata": {},
     "output_type": "execute_result"
    }
   ],
   "source": [
    "pipeline_1.fit(X=train_data[num_features], y=train_data[y])"
   ]
  },
  {
   "cell_type": "code",
   "execution_count": 43,
   "metadata": {},
   "outputs": [
    {
     "data": {
      "text/plain": [
       "0.520027700755986"
      ]
     },
     "execution_count": 43,
     "metadata": {},
     "output_type": "execute_result"
    }
   ],
   "source": [
    "pipeline_1.score(X=test_data[num_features], y=test_data[y])"
   ]
  },
  {
   "cell_type": "code",
   "execution_count": 44,
   "metadata": {},
   "outputs": [
    {
     "data": {
      "text/plain": [
       "array([0.51420325, 0.53161126, 0.52440537, 0.52879704, 0.51962954])"
      ]
     },
     "execution_count": 44,
     "metadata": {},
     "output_type": "execute_result"
    }
   ],
   "source": [
    "from sklearn.model_selection import cross_val_score\n",
    "\n",
    "cross_val_score(estimator=pipeline_1, X=train_data[num_features], y=train_data[y], cv=5)"
   ]
  },
  {
   "cell_type": "markdown",
   "metadata": {},
   "source": []
  }
 ],
 "metadata": {
  "kernelspec": {
   "display_name": "Python 3.9.12 ('ads3-03-e2e')",
   "language": "python",
   "name": "python3"
  },
  "language_info": {
   "codemirror_mode": {
    "name": "ipython",
    "version": 3
   },
   "file_extension": ".py",
   "mimetype": "text/x-python",
   "name": "python",
   "nbconvert_exporter": "python",
   "pygments_lexer": "ipython3",
   "version": "3.11.5"
  },
  "orig_nbformat": 4,
  "vscode": {
   "interpreter": {
    "hash": "7dda575964029847821f774d67ee288cb7761a9a59c41206532536da7da0cf57"
   }
  }
 },
 "nbformat": 4,
 "nbformat_minor": 2
}
