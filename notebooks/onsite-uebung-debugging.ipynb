{
 "cells": [
  {
   "cell_type": "markdown",
   "metadata": {},
   "source": [
    "# Onsite: Debugging Übung\n",
    "\n",
    "Die Übung ist an das Notebook 2E angelehnt.\n",
    "\n",
    "## Vorbereitung\n",
    "\n",
    "- Daten einlesen\n",
    "- Preprocessing\n",
    "- KMeans Clustering anwenden\n",
    "- Funktion `plot_kmeans()` definieren"
   ]
  },
  {
   "cell_type": "code",
   "execution_count": null,
   "metadata": {},
   "outputs": [],
   "source": [
    "import matplotlib.pyplot as plt\n",
    "import numpy as np\n",
    "from repml.datasets.trees_fra import read_trees_fra\n",
    "from sklearn.preprocessing import MinMaxScaler\n",
    "from sklearn.cluster import KMeans"
   ]
  },
  {
   "cell_type": "code",
   "execution_count": null,
   "metadata": {},
   "outputs": [],
   "source": [
    "# load & preprocess data\n",
    "data = read_trees_fra()\n",
    "X = data[[\"baumhoehe\", \"st_durchm\"]].to_numpy()\n",
    "X = MinMaxScaler().fit_transform(X)"
   ]
  },
  {
   "cell_type": "code",
   "execution_count": null,
   "metadata": {},
   "outputs": [],
   "source": [
    "# kmeans clustering\n",
    "kmeans_3 = KMeans(n_clusters=3, random_state=42, n_init=10)\n",
    "kmeans_3.fit(X)\n",
    "kmeans_5 = KMeans(n_clusters=5, random_state=42, n_init=10)\n",
    "kmeans_5.fit(X)\n",
    "kmeans_7 = KMeans(n_clusters=7, random_state=42, n_init=10)\n",
    "kmeans_7.fit(X)\n",
    "kmeans_9 = KMeans(n_clusters=9, random_state=42, n_init=10)\n",
    "kmeans_9.fit(X)"
   ]
  },
  {
   "cell_type": "code",
   "execution_count": null,
   "metadata": {},
   "outputs": [],
   "source": [
    "# define plotting function\n",
    "from repml.plotting.cluster_plots import _plot_decision_boundaries\n",
    "\n",
    "\n",
    "def plot_kmeans(X, kmeans, figsize=(8, 8)):\n",
    "    \"\"\"Plot muliple k-means side-by-side.\n",
    "\n",
    "    Args:\n",
    "        X (np.array): 2D array to use for clustering.\n",
    "        kmeans (sklearn.cluster.KMeans): Instance(s) of fitted KMeans estimators.\n",
    "        figsize (tuple, optional): Size of the figure plotted. Defaults to (8, 8).\n",
    "    \"\"\"\n",
    "    fig = plt.figure(figsize=figsize)\n",
    "    rows, cols = (int(round(len(kmeans) / 2, 0)), 2)\n",
    "    for ix, km in enumerate(kmeans):\n",
    "        plt.subplot(rows, cols, ix)\n",
    "        _plot_decision_boundaries(km, X)\n",
    "        plt.title(f\"{km.n_clusters} clusters\")\n",
    "    fig.suptitle(\"K-Means clustering\")\n",
    "    plt.tight_layout()"
   ]
  },
  {
   "cell_type": "markdown",
   "metadata": {},
   "source": [
    "## Wo steckt der Fehler? Debugging zur Hilfe!"
   ]
  },
  {
   "cell_type": "code",
   "execution_count": null,
   "metadata": {},
   "outputs": [],
   "source": [
    "plot_kmeans(X, [kmeans_3, kmeans_5, kmeans_7, kmeans_9], figsize=(8, 8))"
   ]
  },
  {
   "cell_type": "markdown",
   "metadata": {},
   "source": []
  }
 ],
 "metadata": {
  "kernelspec": {
   "display_name": "Python 3.9.12 ('ads3-02-dw')",
   "language": "python",
   "name": "python3"
  },
  "language_info": {
   "codemirror_mode": {
    "name": "ipython",
    "version": 3
   },
   "file_extension": ".py",
   "mimetype": "text/x-python",
   "name": "python",
   "nbconvert_exporter": "python",
   "pygments_lexer": "ipython3",
   "version": "3.11.6"
  },
  "vscode": {
   "interpreter": {
    "hash": "1573d45df3c8ffb0496e8c1c5373ffdbcd80cbf5fb67b63920ae9a95902d7a2a"
   }
  }
 },
 "nbformat": 4,
 "nbformat_minor": 2
}
