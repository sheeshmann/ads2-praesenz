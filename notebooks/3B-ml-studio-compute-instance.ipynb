{
 "cells": [
  {
   "cell_type": "markdown",
   "metadata": {},
   "source": [
    "# B - Azure ML Studio: ADSC21 Notebooks vorbereiten\n",
    "\n",
    "Environment für dieses Notebook: `ads-ml-light` (*requirements-py3.11-ads-ml-light.txt*)."
   ]
  },
  {
   "cell_type": "code",
   "execution_count": 1,
   "metadata": {},
   "outputs": [
    {
     "data": {
      "text/plain": [
       "True"
      ]
     },
     "execution_count": 1,
     "metadata": {},
     "output_type": "execute_result"
    }
   ],
   "source": [
    "from dotenv import load_dotenv\n",
    "\n",
    "load_dotenv()"
   ]
  },
  {
   "cell_type": "markdown",
   "metadata": {},
   "source": [
    "## 1. Umgebungsvariablen"
   ]
  },
  {
   "cell_type": "code",
   "execution_count": 2,
   "metadata": {},
   "outputs": [],
   "source": [
    "import os\n",
    "\n",
    "subscription_id = os.getenv(\"AZURE_SUBSCRIPTION_ID\")"
   ]
  },
  {
   "cell_type": "markdown",
   "metadata": {},
   "source": [
    "## 2. Anmeldungen bei Azure"
   ]
  },
  {
   "cell_type": "code",
   "execution_count": null,
   "metadata": {},
   "outputs": [],
   "source": [
    "!az login"
   ]
  },
  {
   "cell_type": "markdown",
   "metadata": {},
   "source": [
    "## 3. Python SDK ML Client"
   ]
  },
  {
   "cell_type": "code",
   "execution_count": 3,
   "metadata": {},
   "outputs": [],
   "source": [
    "from azure.ai.ml import MLClient\n",
    "from azure.identity import DefaultAzureCredential\n",
    "\n",
    "ml_client = MLClient(\n",
    "    DefaultAzureCredential(),\n",
    "    subscription_id,\n",
    "    resource_group_name=\"rg-adsc21\",\n",
    "    workspace_name=\"workspace-ads-ml2\",\n",
    ")"
   ]
  },
  {
   "cell_type": "markdown",
   "metadata": {},
   "source": [
    "## 4. Compute Instance erstellen"
   ]
  },
  {
   "cell_type": "code",
   "execution_count": 4,
   "metadata": {},
   "outputs": [
    {
     "data": {
      "text/plain": [
       "ComputeInstance({'state': 'Running', 'last_operation': {'operation_name': 'Create', 'operation_time': '2023-12-16T13:55:22.542Z', 'operation_status': 'Succeeded', 'operation_trigger': 'User'}, 'os_image_metadata': <azure.ai.ml.entities._compute._image_metadata.ImageMetadata object at 0x117692a90>, 'services': [{'display_name': 'Jupyter', 'endpoint_uri': 'https://ci-ads-ml.westeurope.instances.azureml.ms/tree/'}, {'display_name': 'Jupyter Lab', 'endpoint_uri': 'https://ci-ads-ml.westeurope.instances.azureml.ms/lab'}], 'type': 'computeinstance', 'created_on': None, 'provisioning_state': 'Succeeded', 'provisioning_errors': None, 'name': 'ci-ads-ml', 'description': None, 'tags': None, 'properties': {}, 'print_as_yaml': True, 'id': '/subscriptions/083a9eb0-a7cf-465e-9bdd-e3481c3d4ad9/resourceGroups/rg-adsc21/providers/Microsoft.MachineLearningServices/workspaces/workspace-ads-ml2/computes/ci-ads-ml', 'Resource__source_path': None, 'base_path': '/Users/seppmacmini/Local/adsc21/notebooks', 'creation_context': None, 'serialize': <msrest.serialization.Serializer object at 0x1176a8dd0>, 'resource_id': None, 'location': 'westeurope', 'size': 'STANDARD_DS3_V2', 'ssh_public_access_enabled': False, 'create_on_behalf_of': None, 'network_settings': <azure.ai.ml.entities._compute.compute.NetworkSettings object at 0x1176ab810>, 'ssh_settings': <azure.ai.ml.entities._compute.compute_instance.ComputeInstanceSshSettings object at 0x1176abed0>, 'schedules': None, 'identity': None, 'idle_time_before_shutdown': 'PT30M', 'idle_time_before_shutdown_minutes': 30, 'setup_scripts': None, 'enable_node_public_ip': True, 'custom_applications': None, 'subnet': None})"
      ]
     },
     "execution_count": 4,
     "metadata": {},
     "output_type": "execute_result"
    }
   ],
   "source": [
    "# Compute Instances need to have a unique name across the region.\n",
    "# Here we create a unique name with current datetime\n",
    "from azure.ai.ml.entities import ComputeInstance\n",
    "\n",
    "# size = \"STANDARD_DS11_v2\" # lightweight development 0.19$/hr\n",
    "size = \"STANDARD_DS3_v2\"  # ML models small datasets 0.27$/hr\n",
    "# size = \"Standard_F8s_v2\" # Compute optimized 0.39$/hr\n",
    "compute_instance_name = f\"ci-ads-ml\"\n",
    "compute_instance = ComputeInstance(\n",
    "    name=compute_instance_name, size=size, idle_time_before_shutdown_minutes=\"30\"\n",
    ")\n",
    "ml_client.begin_create_or_update(compute_instance).result()"
   ]
  },
  {
   "cell_type": "markdown",
   "metadata": {},
   "source": [
    "## 5. Material hochladen\n",
    "\n",
    "Der gesamte Ordner `ads_ml_material` muss im [Azure ML Studio](ml.azure.com/) in das Dateisystem unter Notebooks hochgeladen werden. Sobald die Compute Instanz verfügbar ist, können "
   ]
  },
  {
   "cell_type": "markdown",
   "metadata": {},
   "source": [
    "## 6. Environment ads-ml-full erstellen\n",
    "\n",
    "```bash\n",
    "conda init bash\n",
    "```\n",
    "\n",
    "**Neues Terminal starten!**\n",
    "\n",
    "```bash\n",
    "conda create -n ads-ml-full python=3.11 -y\n",
    "conda activate ads-ml-full\n",
    "pip install -r ads_ml_material/requirements/requirements-py3.11-ads-ml-full.txt\n",
    "pip install -e ads_ml_material/\n",
    "```\n",
    "\n",
    "### Graphviz installieren\n",
    "\n",
    "```bash\n",
    "sudo apt install graphviz\n",
    "```\n"
   ]
  },
  {
   "cell_type": "markdown",
   "metadata": {},
   "source": []
  }
 ],
 "metadata": {
  "kernelspec": {
   "display_name": "ads3-full",
   "language": "python",
   "name": "python3"
  },
  "language_info": {
   "codemirror_mode": {
    "name": "ipython",
    "version": 3
   },
   "file_extension": ".py",
   "mimetype": "text/x-python",
   "name": "python",
   "nbconvert_exporter": "python",
   "pygments_lexer": "ipython3",
   "version": "3.11.5"
  },
  "orig_nbformat": 4
 },
 "nbformat": 4,
 "nbformat_minor": 2
}
