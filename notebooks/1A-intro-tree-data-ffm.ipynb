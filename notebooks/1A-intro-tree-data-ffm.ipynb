{
 "cells": [
  {
   "cell_type": "markdown",
   "metadata": {},
   "source": [
    "# A - Datensatz Einführung: Baumkataster Frankfurt"
   ]
  },
  {
   "cell_type": "markdown",
   "metadata": {},
   "source": [
    "Environment für dieses Notebook: `ads-ml-light` (*requirements-py3.11-ads-ml-light.txt*)."
   ]
  },
  {
   "cell_type": "markdown",
   "metadata": {},
   "source": [
    "## Daten laden & lokales Caching"
   ]
  },
  {
   "cell_type": "code",
   "execution_count": 1,
   "metadata": {},
   "outputs": [],
   "source": [
    "from pathlib import Path\n",
    "\n",
    "URL = (\n",
    "    \"https://offenedaten.frankfurt.de/dataset/73c5a6b3-c033-4dad-bb7d-8783427dd233/resource/\"\n",
    "    \"3b7617c7-7547-48bb-85d3-0da8731a4d22/download/baumauswahl_veroffentlichung_10.csv\"\n",
    ")\n",
    "raw_data = Path(\"../data/baumkataster_frankfurt_2021.parquet\")"
   ]
  },
  {
   "cell_type": "markdown",
   "metadata": {},
   "source": [
    "Die Daten sind unter der Datenlizenz Deutschland, [„dl-de/by-2-0\"](http://www.govdata.de/dl-de/by-2-0) veröffentlicht, was vielfältige, kommerzielle und nicht kommerzielle Nutzung zulässt und lediglich eine Namensnennung der Lizenz erfordert.\n",
    "\n",
    "Zugänglich werden die Daten über das Open Data Portal der Stadt Frankfurt gemacht: [offenedaten.frankfurt.de/dataset/baumkataster-frankfurt-am-main](https://www.offenedaten.frankfurt.de/dataset/baumkataster-frankfurt-am-main). Im Geoportal der Stadt Frankfurt können die Bäume auch graphisch dargestellt werden: [geoportal.frankfurt.de](https://geoportal.frankfurt.de/karte/?layerIds=55037,55033,55035,118,28&visibility=true,true,true,true,true&transparency=0,0,0,0,0&center=477500,5551000&zoomLevel=4). Eine minimale Beschreibung findet sich [auf der Seite](https://frankfurt.de/themen/umwelt-und-gruen/umwelt-und-gruen-a-z/im-gruenen/baeume/baumkataster) der Stadt Frankfurt."
   ]
  },
  {
   "cell_type": "code",
   "execution_count": 2,
   "metadata": {},
   "outputs": [],
   "source": [
    "import pandas as pd\n",
    "\n",
    "if raw_data.exists():\n",
    "    data = pd.read_parquet(raw_data)\n",
    "else:\n",
    "    data = pd.read_csv(URL, sep=\";\", decimal=\",\")\n",
    "    data.to_parquet(raw_data)"
   ]
  },
  {
   "cell_type": "markdown",
   "metadata": {},
   "source": [
    "## Erste Sichtung der Daten"
   ]
  },
  {
   "cell_type": "code",
   "execution_count": 3,
   "metadata": {},
   "outputs": [
    {
     "name": "stdout",
     "output_type": "stream",
     "text": [
      "<class 'pandas.core.frame.DataFrame'>\n",
      "RangeIndex: 159187 entries, 0 to 159186\n",
      "Data columns (total 16 columns):\n",
      " #   Column      Non-Null Count   Dtype  \n",
      "---  ------      --------------   -----  \n",
      " 0   BAUMNUMMER  159187 non-null  object \n",
      " 1   HOCHWERT    159187 non-null  float64\n",
      " 2   RECHTSWERT  159187 non-null  float64\n",
      " 3   GATTUNGART  159182 non-null  object \n",
      " 4   GATTUNG     159187 non-null  object \n",
      " 5   GA_LANG     159187 non-null  object \n",
      " 6   KR_DURCHM   159187 non-null  float64\n",
      " 7   ST_UMFANG   159187 non-null  float64\n",
      " 8   GEBIET      159187 non-null  object \n",
      " 9   STRASSE     159187 non-null  object \n",
      " 10  STANDORT    60122 non-null   object \n",
      " 11  BAUMHOEHE   159187 non-null  int64  \n",
      " 12  ST_DURCHM   159187 non-null  int64  \n",
      " 13  PFLANZJAHR  159187 non-null  int64  \n",
      " 14  BAUM_STATU  830 non-null     object \n",
      " 15  Kr_r        159187 non-null  float64\n",
      "dtypes: float64(5), int64(3), object(8)\n",
      "memory usage: 19.4+ MB\n"
     ]
    }
   ],
   "source": [
    "data.info()"
   ]
  },
  {
   "cell_type": "code",
   "execution_count": 4,
   "metadata": {},
   "outputs": [
    {
     "data": {
      "text/plain": [
       "3.8177671432495117"
      ]
     },
     "execution_count": 4,
     "metadata": {},
     "output_type": "execute_result"
    }
   ],
   "source": [
    "# raw data size in MB\n",
    "raw_data.stat().st_size / 1024**2"
   ]
  },
  {
   "cell_type": "code",
   "execution_count": 5,
   "metadata": {},
   "outputs": [
    {
     "data": {
      "text/html": [
       "<div>\n",
       "<style scoped>\n",
       "    .dataframe tbody tr th:only-of-type {\n",
       "        vertical-align: middle;\n",
       "    }\n",
       "\n",
       "    .dataframe tbody tr th {\n",
       "        vertical-align: top;\n",
       "    }\n",
       "\n",
       "    .dataframe thead th {\n",
       "        text-align: right;\n",
       "    }\n",
       "</style>\n",
       "<table border=\"1\" class=\"dataframe\">\n",
       "  <thead>\n",
       "    <tr style=\"text-align: right;\">\n",
       "      <th></th>\n",
       "      <th>BAUMNUMMER</th>\n",
       "      <th>HOCHWERT</th>\n",
       "      <th>RECHTSWERT</th>\n",
       "      <th>GATTUNGART</th>\n",
       "      <th>GATTUNG</th>\n",
       "      <th>GA_LANG</th>\n",
       "      <th>KR_DURCHM</th>\n",
       "      <th>ST_UMFANG</th>\n",
       "      <th>GEBIET</th>\n",
       "      <th>STRASSE</th>\n",
       "      <th>STANDORT</th>\n",
       "      <th>BAUMHOEHE</th>\n",
       "      <th>ST_DURCHM</th>\n",
       "      <th>PFLANZJAHR</th>\n",
       "      <th>BAUM_STATU</th>\n",
       "      <th>Kr_r</th>\n",
       "    </tr>\n",
       "  </thead>\n",
       "  <tbody>\n",
       "    <tr>\n",
       "      <th>0</th>\n",
       "      <td>1</td>\n",
       "      <td>5549510.90</td>\n",
       "      <td>473366.239</td>\n",
       "      <td>G0444</td>\n",
       "      <td>Platanus</td>\n",
       "      <td>Platanus acerifolia, Gewöhnliche Platane</td>\n",
       "      <td>8.0</td>\n",
       "      <td>141.0</td>\n",
       "      <td>Straßen</td>\n",
       "      <td>Ackermannstrasse</td>\n",
       "      <td>Alte BNr. 1</td>\n",
       "      <td>7</td>\n",
       "      <td>45</td>\n",
       "      <td>1920</td>\n",
       "      <td>None</td>\n",
       "      <td>4.0</td>\n",
       "    </tr>\n",
       "    <tr>\n",
       "      <th>1</th>\n",
       "      <td>2</td>\n",
       "      <td>5549517.24</td>\n",
       "      <td>473363.459</td>\n",
       "      <td>G0444</td>\n",
       "      <td>Platanus</td>\n",
       "      <td>Platanus acerifolia, Gewöhnliche Platane</td>\n",
       "      <td>8.0</td>\n",
       "      <td>141.0</td>\n",
       "      <td>Straßen</td>\n",
       "      <td>Ackermannstrasse</td>\n",
       "      <td>Alte BNr. 3</td>\n",
       "      <td>7</td>\n",
       "      <td>45</td>\n",
       "      <td>1920</td>\n",
       "      <td>None</td>\n",
       "      <td>4.0</td>\n",
       "    </tr>\n",
       "    <tr>\n",
       "      <th>2</th>\n",
       "      <td>3</td>\n",
       "      <td>5549524.39</td>\n",
       "      <td>473360.149</td>\n",
       "      <td>G0444</td>\n",
       "      <td>Platanus</td>\n",
       "      <td>Platanus acerifolia, Gewöhnliche Platane</td>\n",
       "      <td>8.0</td>\n",
       "      <td>138.0</td>\n",
       "      <td>Straßen</td>\n",
       "      <td>Ackermannstrasse</td>\n",
       "      <td>Alte BNr. 5</td>\n",
       "      <td>7</td>\n",
       "      <td>44</td>\n",
       "      <td>1920</td>\n",
       "      <td>None</td>\n",
       "      <td>4.0</td>\n",
       "    </tr>\n",
       "    <tr>\n",
       "      <th>3</th>\n",
       "      <td>5</td>\n",
       "      <td>5549537.75</td>\n",
       "      <td>473354.479</td>\n",
       "      <td>G0444</td>\n",
       "      <td>Platanus</td>\n",
       "      <td>Platanus acerifolia, Gewöhnliche Platane</td>\n",
       "      <td>8.0</td>\n",
       "      <td>141.0</td>\n",
       "      <td>Straßen</td>\n",
       "      <td>Ackermannstrasse</td>\n",
       "      <td>Alte BNr. 9</td>\n",
       "      <td>7</td>\n",
       "      <td>45</td>\n",
       "      <td>1920</td>\n",
       "      <td>None</td>\n",
       "      <td>4.0</td>\n",
       "    </tr>\n",
       "    <tr>\n",
       "      <th>4</th>\n",
       "      <td>6</td>\n",
       "      <td>5549544.09</td>\n",
       "      <td>473351.429</td>\n",
       "      <td>G0444</td>\n",
       "      <td>Platanus</td>\n",
       "      <td>Platanus acerifolia, Gewöhnliche Platane</td>\n",
       "      <td>8.0</td>\n",
       "      <td>132.0</td>\n",
       "      <td>Straßen</td>\n",
       "      <td>Ackermannstrasse</td>\n",
       "      <td>Alte BNr. 11</td>\n",
       "      <td>7</td>\n",
       "      <td>42</td>\n",
       "      <td>1920</td>\n",
       "      <td>None</td>\n",
       "      <td>4.0</td>\n",
       "    </tr>\n",
       "  </tbody>\n",
       "</table>\n",
       "</div>"
      ],
      "text/plain": [
       "  BAUMNUMMER    HOCHWERT  RECHTSWERT GATTUNGART   GATTUNG  \\\n",
       "0          1  5549510.90  473366.239      G0444  Platanus   \n",
       "1          2  5549517.24  473363.459      G0444  Platanus   \n",
       "2          3  5549524.39  473360.149      G0444  Platanus   \n",
       "3          5  5549537.75  473354.479      G0444  Platanus   \n",
       "4          6  5549544.09  473351.429      G0444  Platanus   \n",
       "\n",
       "                                    GA_LANG  KR_DURCHM  ST_UMFANG   GEBIET  \\\n",
       "0  Platanus acerifolia, Gewöhnliche Platane        8.0      141.0  Straßen   \n",
       "1  Platanus acerifolia, Gewöhnliche Platane        8.0      141.0  Straßen   \n",
       "2  Platanus acerifolia, Gewöhnliche Platane        8.0      138.0  Straßen   \n",
       "3  Platanus acerifolia, Gewöhnliche Platane        8.0      141.0  Straßen   \n",
       "4  Platanus acerifolia, Gewöhnliche Platane        8.0      132.0  Straßen   \n",
       "\n",
       "            STRASSE      STANDORT  BAUMHOEHE  ST_DURCHM  PFLANZJAHR  \\\n",
       "0  Ackermannstrasse   Alte BNr. 1          7         45        1920   \n",
       "1  Ackermannstrasse   Alte BNr. 3          7         45        1920   \n",
       "2  Ackermannstrasse   Alte BNr. 5          7         44        1920   \n",
       "3  Ackermannstrasse   Alte BNr. 9          7         45        1920   \n",
       "4  Ackermannstrasse  Alte BNr. 11          7         42        1920   \n",
       "\n",
       "  BAUM_STATU  Kr_r  \n",
       "0       None   4.0  \n",
       "1       None   4.0  \n",
       "2       None   4.0  \n",
       "3       None   4.0  \n",
       "4       None   4.0  "
      ]
     },
     "execution_count": 5,
     "metadata": {},
     "output_type": "execute_result"
    }
   ],
   "source": [
    "data.head()"
   ]
  },
  {
   "cell_type": "code",
   "execution_count": 6,
   "metadata": {},
   "outputs": [
    {
     "data": {
      "text/plain": [
       "BAUMNUMMER         0\n",
       "HOCHWERT           0\n",
       "RECHTSWERT         0\n",
       "GATTUNGART         5\n",
       "GATTUNG            0\n",
       "GA_LANG            0\n",
       "KR_DURCHM          0\n",
       "ST_UMFANG          0\n",
       "GEBIET             0\n",
       "STRASSE            0\n",
       "STANDORT       99065\n",
       "BAUMHOEHE          0\n",
       "ST_DURCHM          0\n",
       "PFLANZJAHR         0\n",
       "BAUM_STATU    158357\n",
       "Kr_r               0\n",
       "dtype: int64"
      ]
     },
     "execution_count": 6,
     "metadata": {},
     "output_type": "execute_result"
    }
   ],
   "source": [
    "data.isna().sum()"
   ]
  },
  {
   "cell_type": "code",
   "execution_count": 7,
   "metadata": {},
   "outputs": [
    {
     "data": {
      "text/plain": [
       "BAUM_STATU\n",
       "W    499\n",
       "N    166\n",
       "H    165\n",
       "Name: count, dtype: int64"
      ]
     },
     "execution_count": 7,
     "metadata": {},
     "output_type": "execute_result"
    }
   ],
   "source": [
    "data[\"BAUM_STATU\"].value_counts()"
   ]
  },
  {
   "cell_type": "code",
   "execution_count": 8,
   "metadata": {},
   "outputs": [
    {
     "data": {
      "text/plain": [
       "STANDORT\n",
       "-                           3040\n",
       "Alte BNr. 2                  510\n",
       "Alte BNr. 1                  509\n",
       "Alte BNr. 4                  490\n",
       "Alte BNr. 3                  484\n",
       "                            ... \n",
       "fußweg kgv                     1\n",
       "Eleonore-Sterling-Straße       1\n",
       "Alte BNr. 1052                 1\n",
       "Alte BNr. 1056                 1\n",
       "5 Stück                        1\n",
       "Name: count, Length: 6269, dtype: int64"
      ]
     },
     "execution_count": 8,
     "metadata": {},
     "output_type": "execute_result"
    }
   ],
   "source": [
    "data[\"STANDORT\"].value_counts()"
   ]
  },
  {
   "cell_type": "code",
   "execution_count": 9,
   "metadata": {},
   "outputs": [
    {
     "data": {
      "text/plain": [
       "GATTUNG\n",
       "Acer        35539\n",
       "Tilia       14949\n",
       "Carpinus    13834\n",
       "Quercus     13080\n",
       "Platanus     9168\n",
       "Fraxinus     7100\n",
       "Prunus       6510\n",
       "Aesculus     6389\n",
       "Taxus        5201\n",
       "Betula       3955\n",
       "Name: count, dtype: int64"
      ]
     },
     "execution_count": 9,
     "metadata": {},
     "output_type": "execute_result"
    }
   ],
   "source": [
    "data[\"GATTUNG\"].value_counts()[:10]"
   ]
  },
  {
   "cell_type": "code",
   "execution_count": 11,
   "metadata": {},
   "outputs": [
    {
     "data": {
      "text/html": [
       "<div>\n",
       "<style scoped>\n",
       "    .dataframe tbody tr th:only-of-type {\n",
       "        vertical-align: middle;\n",
       "    }\n",
       "\n",
       "    .dataframe tbody tr th {\n",
       "        vertical-align: top;\n",
       "    }\n",
       "\n",
       "    .dataframe thead th {\n",
       "        text-align: right;\n",
       "    }\n",
       "</style>\n",
       "<table border=\"1\" class=\"dataframe\">\n",
       "  <thead>\n",
       "    <tr style=\"text-align: right;\">\n",
       "      <th></th>\n",
       "      <th>HOCHWERT</th>\n",
       "      <th>RECHTSWERT</th>\n",
       "      <th>KR_DURCHM</th>\n",
       "      <th>ST_UMFANG</th>\n",
       "      <th>BAUMHOEHE</th>\n",
       "      <th>ST_DURCHM</th>\n",
       "      <th>PFLANZJAHR</th>\n",
       "      <th>Kr_r</th>\n",
       "    </tr>\n",
       "  </thead>\n",
       "  <tbody>\n",
       "    <tr>\n",
       "      <th>count</th>\n",
       "      <td>1.591870e+05</td>\n",
       "      <td>159187.000000</td>\n",
       "      <td>159187.000000</td>\n",
       "      <td>159187.000000</td>\n",
       "      <td>159187.000000</td>\n",
       "      <td>159187.000000</td>\n",
       "      <td>159187.000000</td>\n",
       "      <td>159187.000000</td>\n",
       "    </tr>\n",
       "    <tr>\n",
       "      <th>mean</th>\n",
       "      <td>5.552877e+06</td>\n",
       "      <td>475348.654163</td>\n",
       "      <td>7.103404</td>\n",
       "      <td>106.453077</td>\n",
       "      <td>12.742096</td>\n",
       "      <td>33.911877</td>\n",
       "      <td>1979.562018</td>\n",
       "      <td>3.551702</td>\n",
       "    </tr>\n",
       "    <tr>\n",
       "      <th>std</th>\n",
       "      <td>3.390366e+03</td>\n",
       "      <td>4185.870533</td>\n",
       "      <td>4.041459</td>\n",
       "      <td>73.507547</td>\n",
       "      <td>6.146677</td>\n",
       "      <td>23.401226</td>\n",
       "      <td>25.554797</td>\n",
       "      <td>2.020729</td>\n",
       "    </tr>\n",
       "    <tr>\n",
       "      <th>min</th>\n",
       "      <td>5.545113e+06</td>\n",
       "      <td>463162.720000</td>\n",
       "      <td>2.000000</td>\n",
       "      <td>0.000000</td>\n",
       "      <td>0.000000</td>\n",
       "      <td>0.000000</td>\n",
       "      <td>1700.000000</td>\n",
       "      <td>1.000000</td>\n",
       "    </tr>\n",
       "    <tr>\n",
       "      <th>25%</th>\n",
       "      <td>5.550354e+06</td>\n",
       "      <td>472880.414000</td>\n",
       "      <td>4.000000</td>\n",
       "      <td>53.000000</td>\n",
       "      <td>8.000000</td>\n",
       "      <td>17.000000</td>\n",
       "      <td>1968.000000</td>\n",
       "      <td>2.000000</td>\n",
       "    </tr>\n",
       "    <tr>\n",
       "      <th>50%</th>\n",
       "      <td>5.552681e+06</td>\n",
       "      <td>475550.450046</td>\n",
       "      <td>6.000000</td>\n",
       "      <td>89.000000</td>\n",
       "      <td>12.000000</td>\n",
       "      <td>28.000000</td>\n",
       "      <td>1982.000000</td>\n",
       "      <td>3.000000</td>\n",
       "    </tr>\n",
       "    <tr>\n",
       "      <th>75%</th>\n",
       "      <td>5.554912e+06</td>\n",
       "      <td>478147.984500</td>\n",
       "      <td>9.000000</td>\n",
       "      <td>141.000000</td>\n",
       "      <td>17.000000</td>\n",
       "      <td>45.000000</td>\n",
       "      <td>1997.000000</td>\n",
       "      <td>4.500000</td>\n",
       "    </tr>\n",
       "    <tr>\n",
       "      <th>max</th>\n",
       "      <td>5.563900e+06</td>\n",
       "      <td>485429.876910</td>\n",
       "      <td>40.000000</td>\n",
       "      <td>4457.000000</td>\n",
       "      <td>67.000000</td>\n",
       "      <td>1418.000000</td>\n",
       "      <td>2090.000000</td>\n",
       "      <td>20.000000</td>\n",
       "    </tr>\n",
       "  </tbody>\n",
       "</table>\n",
       "</div>"
      ],
      "text/plain": [
       "           HOCHWERT     RECHTSWERT      KR_DURCHM      ST_UMFANG  \\\n",
       "count  1.591870e+05  159187.000000  159187.000000  159187.000000   \n",
       "mean   5.552877e+06  475348.654163       7.103404     106.453077   \n",
       "std    3.390366e+03    4185.870533       4.041459      73.507547   \n",
       "min    5.545113e+06  463162.720000       2.000000       0.000000   \n",
       "25%    5.550354e+06  472880.414000       4.000000      53.000000   \n",
       "50%    5.552681e+06  475550.450046       6.000000      89.000000   \n",
       "75%    5.554912e+06  478147.984500       9.000000     141.000000   \n",
       "max    5.563900e+06  485429.876910      40.000000    4457.000000   \n",
       "\n",
       "           BAUMHOEHE      ST_DURCHM     PFLANZJAHR           Kr_r  \n",
       "count  159187.000000  159187.000000  159187.000000  159187.000000  \n",
       "mean       12.742096      33.911877    1979.562018       3.551702  \n",
       "std         6.146677      23.401226      25.554797       2.020729  \n",
       "min         0.000000       0.000000    1700.000000       1.000000  \n",
       "25%         8.000000      17.000000    1968.000000       2.000000  \n",
       "50%        12.000000      28.000000    1982.000000       3.000000  \n",
       "75%        17.000000      45.000000    1997.000000       4.500000  \n",
       "max        67.000000    1418.000000    2090.000000      20.000000  "
      ]
     },
     "execution_count": 11,
     "metadata": {},
     "output_type": "execute_result"
    }
   ],
   "source": [
    "data.describe()"
   ]
  },
  {
   "cell_type": "code",
   "execution_count": 12,
   "metadata": {},
   "outputs": [
    {
     "data": {
      "text/plain": [
       "BAUMNUMMER      8740\n",
       "HOCHWERT      139189\n",
       "RECHTSWERT    143115\n",
       "GATTUNGART       660\n",
       "GATTUNG          141\n",
       "GA_LANG          664\n",
       "KR_DURCHM         81\n",
       "ST_UMFANG        551\n",
       "GEBIET           115\n",
       "STRASSE         2862\n",
       "STANDORT        6269\n",
       "BAUMHOEHE         43\n",
       "ST_DURCHM        226\n",
       "PFLANZJAHR       199\n",
       "BAUM_STATU         3\n",
       "Kr_r              81\n",
       "dtype: int64"
      ]
     },
     "execution_count": 12,
     "metadata": {},
     "output_type": "execute_result"
    }
   ],
   "source": [
    "data.nunique()"
   ]
  },
  {
   "cell_type": "markdown",
   "metadata": {},
   "source": [
    "Zum automatisierten Profiling von Datensätzen gibt es auch verschiedene gute Pakete, beispielsweise ydata_profiling, sweetviz oder d-tale."
   ]
  },
  {
   "cell_type": "markdown",
   "metadata": {},
   "source": []
  },
  {
   "cell_type": "markdown",
   "metadata": {},
   "source": []
  }
 ],
 "metadata": {
  "kernelspec": {
   "display_name": "Python 3.9.13 ('ads3-01-bpm')",
   "language": "python",
   "name": "python3"
  },
  "language_info": {
   "codemirror_mode": {
    "name": "ipython",
    "version": 3
   },
   "file_extension": ".py",
   "mimetype": "text/x-python",
   "name": "python",
   "nbconvert_exporter": "python",
   "pygments_lexer": "ipython3",
   "version": "3.11.5"
  },
  "orig_nbformat": 4,
  "vscode": {
   "interpreter": {
    "hash": "64e96f3bc40735f1f888357f2b96c01493911b3255d226f273da1f919fc9d16e"
   }
  }
 },
 "nbformat": 4,
 "nbformat_minor": 2
}
