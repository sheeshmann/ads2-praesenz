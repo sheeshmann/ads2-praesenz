{
 "cells": [
  {
   "cell_type": "markdown",
   "metadata": {},
   "source": [
    "# A - Azure ML Studio: Workspace erstellen\n",
    "\n",
    "Environment für dieses Notebook: `ads-ml-light` (*requirements-py3.11-ads-ml-light.txt*).\n",
    "\n",
    "In diesem Modul nutzen wir die [Azure Machine Learning Python SDK (v2)](https://learn.microsoft.com/en-us/azure/machine-learning/how-to-manage-workspace?view=azureml-api-2&tabs=python), um Ressourcen auf Azure programmatisch zu erstellen.\n",
    "\n",
    "## 1. Einmalig: Anmeldung bei Azure + Freischaltung \"Azure for Students\"\n",
    "\n",
    "Meldet euch mit euren DBU Credentials bei [portal.azure.com](https://portal.azure.com). Aus dem Portal erfahrt ihr eure `subscription_id`, diese muss in die Datei `.env` kopiert werden."
   ]
  },
  {
   "cell_type": "markdown",
   "metadata": {},
   "source": [
    "## 2. Umgebungsvariablen\n",
    "\n",
    "Die `subscription_id` ist für jeden Student einzigartig - solche Werte behandeln wir daher wie \"Geheimnisse\" und legen sie nicht lesbar im Notebook ab.\n",
    "\n",
    "Mit dem `dotenv` Paket lesen wir die Umgebungsvariablen aus der Datei `.env ` ein. Das Paket sucht nach dieser File in den geöffneten Verzeichnissen, üblicherweise liegt die File jedoch gut sichtbar auf der ersten Ebene. Erstellt euch diese File oder nutzt das Template aus den gezippten Downloads.\n",
    "\n",
    "### `.env` Inhalt\n",
    "\n",
    "```bash\n",
    "AZURE_SUBSCRIPTION_ID=\"<YOUR-SUBSCRIPTION-ID>\"\n",
    "```"
   ]
  },
  {
   "cell_type": "code",
   "execution_count": 1,
   "metadata": {},
   "outputs": [
    {
     "data": {
      "text/plain": [
       "True"
      ]
     },
     "execution_count": 1,
     "metadata": {},
     "output_type": "execute_result"
    }
   ],
   "source": [
    "from dotenv import load_dotenv\n",
    "\n",
    "load_dotenv()"
   ]
  },
  {
   "cell_type": "code",
   "execution_count": 2,
   "metadata": {},
   "outputs": [],
   "source": [
    "import os\n",
    "\n",
    "subscription_id = os.getenv(\"AZURE_SUBSCRIPTION_ID\")"
   ]
  },
  {
   "cell_type": "code",
   "execution_count": 3,
   "metadata": {},
   "outputs": [],
   "source": [
    "# kurzer Check, ob es geklappt hat\n",
    "assert subscription_id is not None"
   ]
  },
  {
   "cell_type": "markdown",
   "metadata": {},
   "source": [
    "## 3. Anmelden bei Azure\n",
    "\n",
    "In der Environment ist auch die azure-cli installiert. Mit aktivierter Environment in der Command Line könnt ihr euch einloggen via `az login`, oder ihr führt die nächste Zelle aus.\n",
    "\n",
    "<span style=\"color:orange\">**Ohne erfolgreichen Login schlagen die folgenen Notebook Zellen fehl!**</span>"
   ]
  },
  {
   "cell_type": "code",
   "execution_count": null,
   "metadata": {},
   "outputs": [],
   "source": [
    "!az login"
   ]
  },
  {
   "cell_type": "markdown",
   "metadata": {},
   "source": [
    "## 4. ML Client zur Interaktion mit Azure und der Python SDK"
   ]
  },
  {
   "cell_type": "code",
   "execution_count": 4,
   "metadata": {},
   "outputs": [],
   "source": [
    "from azure.ai.ml import MLClient\n",
    "from azure.identity import DefaultAzureCredential\n",
    "\n",
    "ml_client = MLClient(DefaultAzureCredential(), subscription_id, resource_group_name=\"rg-adsc21\")"
   ]
  },
  {
   "cell_type": "markdown",
   "metadata": {},
   "source": [
    "## 5. Resource Group erstellen\n",
    "\n",
    "Falls schon eine Resource Group vorhanden ist, kann diese genutzt werden.\n",
    "\n",
    "[Azure Doku](https://learn.microsoft.com/en-us/azure/developer/python/sdk/examples/azure-sdk-example-resource-group)"
   ]
  },
  {
   "cell_type": "code",
   "execution_count": 5,
   "metadata": {},
   "outputs": [
    {
     "name": "stdout",
     "output_type": "stream",
     "text": [
      "Provisioned resource group rg-adsc21 in the westeurope region\n"
     ]
    }
   ],
   "source": [
    "from azure.mgmt.resource import ResourceManagementClient\n",
    "\n",
    "resource_client = ResourceManagementClient(DefaultAzureCredential(), subscription_id)\n",
    "\n",
    "# Provision the resource group.\n",
    "rg_create = resource_client.resource_groups.create_or_update(\n",
    "    \"rg-adsc21\", {\"location\": \"westeurope\"}\n",
    ")\n",
    "\n",
    "print(f\"Provisioned resource group {rg_create.name} in the {rg_create.location} region\")"
   ]
  },
  {
   "cell_type": "markdown",
   "metadata": {},
   "source": [
    "## 6. Machine Learning Workspace erstellen"
   ]
  },
  {
   "cell_type": "code",
   "execution_count": 5,
   "metadata": {},
   "outputs": [],
   "source": [
    "from azure.ai.ml.entities import Workspace\n",
    "\n",
    "ws = Workspace(\n",
    "    name=\"workspace-ads-ml2\",\n",
    "    resource_group=\"rg-adsc21\",\n",
    "    display_name=\"ADS ML Workspace\",\n",
    "    description=\"Machine Learning Workspace erstellt mit der Azure ML Client SDK.\",\n",
    ")"
   ]
  },
  {
   "cell_type": "code",
   "execution_count": 6,
   "metadata": {},
   "outputs": [
    {
     "name": "stderr",
     "output_type": "stream",
     "text": [
      "The deployment request workspace-ads-ml2-1978382 was accepted. ARM deployment URI for reference: \n",
      "https://portal.azure.com//#blade/HubsExtension/DeploymentDetailsBlade/overview/id/%2Fsubscriptions%2F083a9eb0-a7cf-465e-9bdd-e3481c3d4ad9%2FresourceGroups%2Frg-adsc21%2Fproviders%2FMicrosoft.Resources%2Fdeployments%2Fworkspace-ads-ml2-1978382\n"
     ]
    }
   ],
   "source": [
    "ws = ml_client.workspaces.begin_create(ws)"
   ]
  },
  {
   "cell_type": "code",
   "execution_count": 7,
   "metadata": {},
   "outputs": [
    {
     "name": "stderr",
     "output_type": "stream",
     "text": [
      "Creating Storage Account: (workspacstorage887ed16da  ) ...  Done (22s)\n",
      "Creating Key Vault: (workspackeyvault66a954b6  )  Done (18s)\n",
      "Creating Log Analytics Workspace: (workspaclogalyti9bab6dae  )  Done (16s)\n",
      "Creating AzureML Workspace: (workspace-ads-ml2  ) ..  Done (19s)\n",
      "Creating Application Insights: (workspacinsights7fa88c88  )  Done (19s)\n",
      "Total time : 43s\n",
      "\n"
     ]
    },
    {
     "name": "stdout",
     "output_type": "stream",
     "text": [
      "application_insights: /subscriptions/083a9eb0-a7cf-465e-9bdd-e3481c3d4ad9/resourceGroups/rg-adsc21/providers/Microsoft.insights/components/workspacinsights7fa88c88\n",
      "description: Machine Learning Workspace erstellt mit der Azure ML Client SDK.\n",
      "discovery_url: https://westeurope.api.azureml.ms/discovery\n",
      "display_name: ADS ML Workspace\n",
      "enable_data_isolation: false\n",
      "hbi_workspace: false\n",
      "id: /subscriptions/083a9eb0-a7cf-465e-9bdd-e3481c3d4ad9/resourceGroups/rg-adsc21/providers/Microsoft.MachineLearningServices/workspaces/workspace-ads-ml2\n",
      "identity:\n",
      "  principal_id: a3cab380-6130-4db8-9b6c-c35361dc8706\n",
      "  tenant_id: b68f9931-79d6-4e5b-bf56-72ad3eb203ca\n",
      "  type: system_assigned\n",
      "key_vault: /subscriptions/083a9eb0-a7cf-465e-9bdd-e3481c3d4ad9/resourceGroups/rg-adsc21/providers/Microsoft.Keyvault/vaults/workspackeyvault66a954b6\n",
      "location: westeurope\n",
      "managed_network:\n",
      "  isolation_mode: disabled\n",
      "  outbound_rules: []\n",
      "mlflow_tracking_uri: azureml://westeurope.api.azureml.ms/mlflow/v1.0/subscriptions/083a9eb0-a7cf-465e-9bdd-e3481c3d4ad9/resourceGroups/rg-adsc21/providers/Microsoft.MachineLearningServices/workspaces/workspace-ads-ml2\n",
      "name: workspace-ads-ml2\n",
      "public_network_access: Enabled\n",
      "resource_group: rg-adsc21\n",
      "serverless_compute:\n",
      "  no_public_ip: false\n",
      "storage_account: /subscriptions/083a9eb0-a7cf-465e-9bdd-e3481c3d4ad9/resourceGroups/rg-adsc21/providers/Microsoft.Storage/storageAccounts/workspacstorage887ed16da\n",
      "tags:\n",
      "  createdByToolkit: sdk-v2-1.12.1\n",
      "\n"
     ]
    }
   ],
   "source": [
    "ws = ws.result()\n",
    "print(ws)"
   ]
  },
  {
   "cell_type": "code",
   "execution_count": null,
   "metadata": {},
   "outputs": [],
   "source": []
  }
 ],
 "metadata": {
  "kernelspec": {
   "display_name": "ads3-full",
   "language": "python",
   "name": "python3"
  },
  "language_info": {
   "codemirror_mode": {
    "name": "ipython",
    "version": 3
   },
   "file_extension": ".py",
   "mimetype": "text/x-python",
   "name": "python",
   "nbconvert_exporter": "python",
   "pygments_lexer": "ipython3",
   "version": "3.11.5"
  },
  "orig_nbformat": 4
 },
 "nbformat": 4,
 "nbformat_minor": 2
}
